{
  "nbformat": 4,
  "nbformat_minor": 0,
  "metadata": {
    "colab": {
      "provenance": [],
      "collapsed_sections": [
        "gfEATgZIAXnA"
      ]
    },
    "kernelspec": {
      "name": "python3",
      "display_name": "Python 3"
    },
    "language_info": {
      "name": "python"
    }
  },
  "cells": [
    {
      "cell_type": "markdown",
      "source": [
        "# Ejercicio: Problema de la mochila\n",
        "\n",
        "Alumno: Jorge Andrés Mármol Rivera"
      ],
      "metadata": {
        "id": "Swg803hoBsro"
      }
    },
    {
      "cell_type": "code",
      "execution_count": null,
      "metadata": {
        "colab": {
          "base_uri": "https://localhost:8080/"
        },
        "id": "1N5pYBiE1k2r",
        "outputId": "9abc7a01-2544-4ad4-b60e-8249257f754b"
      },
      "outputs": [
        {
          "output_type": "stream",
          "name": "stdout",
          "text": [
            "Mounted at /content/drive\n"
          ]
        }
      ],
      "source": [
        "from google.colab import drive\n",
        "drive.mount('/content/drive',force_remount=True)"
      ]
    },
    {
      "cell_type": "markdown",
      "source": [
        "## Preliminares"
      ],
      "metadata": {
        "id": "gfEATgZIAXnA"
      }
    },
    {
      "cell_type": "code",
      "source": [
        "from google.colab import drive\n",
        "drive.mount('/content/drive',force_remount=True)"
      ],
      "metadata": {
        "id": "Xa5EiENTB1qs"
      },
      "execution_count": null,
      "outputs": []
    },
    {
      "cell_type": "code",
      "source": [
        "%cd /content/drive/MyDrive/8- Curso de extensión en computación cuántica/Modulo5"
      ],
      "metadata": {
        "id": "2oyWGrWeB2vo"
      },
      "execution_count": null,
      "outputs": []
    },
    {
      "cell_type": "code",
      "source": [
        "!pip install dwave-ocean-sdk"
      ],
      "metadata": {
        "colab": {
          "base_uri": "https://localhost:8080/"
        },
        "id": "kMe4y7YN1s4Y",
        "outputId": "e7091bfd-7341-4bf2-8efe-2d30b145fcda"
      },
      "execution_count": null,
      "outputs": [
        {
          "output_type": "stream",
          "name": "stdout",
          "text": [
            "Collecting dwave-ocean-sdk\n",
            "  Downloading dwave_ocean_sdk-8.0.1-py3-none-any.whl.metadata (5.7 kB)\n",
            "Collecting dimod==0.12.17 (from dwave-ocean-sdk)\n",
            "  Downloading dimod-0.12.17-cp310-cp310-manylinux_2_17_x86_64.manylinux2014_x86_64.whl.metadata (4.1 kB)\n",
            "Collecting dwave-cloud-client==0.13.1 (from dwave-ocean-sdk)\n",
            "  Downloading dwave_cloud_client-0.13.1-py3-none-any.whl.metadata (5.5 kB)\n",
            "Collecting dwave-gate==0.3.2 (from dwave-ocean-sdk)\n",
            "  Downloading dwave_gate-0.3.2-cp310-cp310-manylinux_2_17_x86_64.manylinux2014_x86_64.whl.metadata (18 kB)\n",
            "Collecting dwave-greedy==0.3.0 (from dwave-ocean-sdk)\n",
            "  Downloading dwave_greedy-0.3.0-py3-none-any.whl.metadata (4.6 kB)\n",
            "Collecting dwave-hybrid==0.6.12 (from dwave-ocean-sdk)\n",
            "  Downloading dwave_hybrid-0.6.12-py3-none-any.whl.metadata (4.4 kB)\n",
            "Collecting dwave-inspector==0.5.1 (from dwave-ocean-sdk)\n",
            "  Downloading dwave_inspector-0.5.1-py3-none-any.whl.metadata (4.4 kB)\n",
            "Collecting dwave-neal==0.6.0 (from dwave-ocean-sdk)\n",
            "  Downloading dwave_neal-0.6.0-py3-none-any.whl.metadata (3.0 kB)\n",
            "Collecting dwave-networkx==0.8.15 (from dwave-ocean-sdk)\n",
            "  Downloading dwave_networkx-0.8.15-py3-none-any.whl.metadata (2.6 kB)\n",
            "Collecting dwave-optimization==0.3.0 (from dwave-ocean-sdk)\n",
            "  Downloading dwave_optimization-0.3.0-cp310-cp310-manylinux_2_24_x86_64.manylinux_2_28_x86_64.whl.metadata (17 kB)\n",
            "Collecting dwave-preprocessing==0.6.6 (from dwave-ocean-sdk)\n",
            "  Downloading dwave_preprocessing-0.6.6-cp310-cp310-manylinux_2_17_x86_64.manylinux2014_x86_64.whl.metadata (3.3 kB)\n",
            "Collecting dwave-samplers==1.3.0 (from dwave-ocean-sdk)\n",
            "  Downloading dwave_samplers-1.3.0-cp310-cp310-manylinux_2_17_x86_64.manylinux2014_x86_64.whl.metadata (9.8 kB)\n",
            "Collecting dwave-system==1.26.0 (from dwave-ocean-sdk)\n",
            "  Downloading dwave_system-1.26.0-py3-none-any.whl.metadata (3.8 kB)\n",
            "Collecting dwave-tabu==0.5.0 (from dwave-ocean-sdk)\n",
            "  Downloading dwave_tabu-0.5.0-py3-none-any.whl.metadata (3.3 kB)\n",
            "Collecting dwavebinarycsp==0.3.0 (from dwave-ocean-sdk)\n",
            "  Downloading dwavebinarycsp-0.3.0-py3-none-any.whl.metadata (3.0 kB)\n",
            "Collecting minorminer==0.2.15 (from dwave-ocean-sdk)\n",
            "  Downloading minorminer-0.2.15-cp310-cp310-manylinux_2_17_x86_64.manylinux2014_x86_64.whl.metadata (20 kB)\n",
            "Collecting penaltymodel==1.1.0 (from dwave-ocean-sdk)\n",
            "  Downloading penaltymodel-1.1.0-py3-none-any.whl.metadata (6.5 kB)\n",
            "Requirement already satisfied: numpy>=1.17.3 in /usr/local/lib/python3.10/dist-packages (from dimod==0.12.17->dwave-ocean-sdk) (1.26.4)\n",
            "Requirement already satisfied: requests<3,>=2.25 in /usr/local/lib/python3.10/dist-packages (from requests[socks]<3,>=2.25->dwave-cloud-client==0.13.1->dwave-ocean-sdk) (2.32.3)\n",
            "Requirement already satisfied: urllib3<3,>=1.26 in /usr/local/lib/python3.10/dist-packages (from dwave-cloud-client==0.13.1->dwave-ocean-sdk) (2.2.3)\n",
            "Requirement already satisfied: pydantic<3,>=2 in /usr/local/lib/python3.10/dist-packages (from dwave-cloud-client==0.13.1->dwave-ocean-sdk) (2.9.2)\n",
            "Collecting homebase<2,>=1.0 (from dwave-cloud-client==0.13.1->dwave-ocean-sdk)\n",
            "  Downloading homebase-1.0.1-py2.py3-none-any.whl.metadata (3.3 kB)\n",
            "Requirement already satisfied: click<9,>=7.0 in /usr/local/lib/python3.10/dist-packages (from dwave-cloud-client==0.13.1->dwave-ocean-sdk) (8.1.7)\n",
            "Requirement already satisfied: python-dateutil<3,>=2.7 in /usr/local/lib/python3.10/dist-packages (from dwave-cloud-client==0.13.1->dwave-ocean-sdk) (2.8.2)\n",
            "Collecting plucky<0.5,>=0.4.3 (from dwave-cloud-client==0.13.1->dwave-ocean-sdk)\n",
            "  Downloading plucky-0.4.3-py2.py3-none-any.whl.metadata (4.4 kB)\n",
            "Collecting diskcache<6,>=5.2.1 (from dwave-cloud-client==0.13.1->dwave-ocean-sdk)\n",
            "  Downloading diskcache-5.6.3-py3-none-any.whl.metadata (20 kB)\n",
            "Requirement already satisfied: packaging>=19 in /usr/local/lib/python3.10/dist-packages (from dwave-cloud-client==0.13.1->dwave-ocean-sdk) (24.2)\n",
            "Requirement already satisfied: werkzeug<4,>=2.2 in /usr/local/lib/python3.10/dist-packages (from dwave-cloud-client==0.13.1->dwave-ocean-sdk) (3.1.3)\n",
            "Requirement already satisfied: typing-extensions<5,>=4.5.0 in /usr/local/lib/python3.10/dist-packages (from dwave-cloud-client==0.13.1->dwave-ocean-sdk) (4.12.2)\n",
            "Collecting authlib<2,>=1.2 (from dwave-cloud-client==0.13.1->dwave-ocean-sdk)\n",
            "  Downloading Authlib-1.3.2-py2.py3-none-any.whl.metadata (3.9 kB)\n",
            "Requirement already satisfied: importlib-metadata>=5.0.0 in /usr/local/lib/python3.10/dist-packages (from dwave-cloud-client==0.13.1->dwave-ocean-sdk) (8.5.0)\n",
            "Requirement already satisfied: orjson>=3.10 in /usr/local/lib/python3.10/dist-packages (from dwave-cloud-client==0.13.1->dwave-ocean-sdk) (3.10.11)\n",
            "Requirement already satisfied: networkx in /usr/local/lib/python3.10/dist-packages (from dwave-hybrid==0.6.12->dwave-ocean-sdk) (3.4.2)\n",
            "Requirement already satisfied: Flask<4,>=2.2 in /usr/local/lib/python3.10/dist-packages (from dwave-inspector==0.5.1->dwave-ocean-sdk) (3.0.3)\n",
            "Requirement already satisfied: scipy>=1.7.3 in /usr/local/lib/python3.10/dist-packages (from dwave-system==1.26.0->dwave-ocean-sdk) (1.13.1)\n",
            "Collecting fasteners>=0.15 (from minorminer==0.2.15->dwave-ocean-sdk)\n",
            "  Downloading fasteners-0.19-py3-none-any.whl.metadata (4.9 kB)\n",
            "Requirement already satisfied: cryptography in /usr/local/lib/python3.10/dist-packages (from authlib<2,>=1.2->dwave-cloud-client==0.13.1->dwave-ocean-sdk) (43.0.3)\n",
            "Requirement already satisfied: Jinja2>=3.1.2 in /usr/local/lib/python3.10/dist-packages (from Flask<4,>=2.2->dwave-inspector==0.5.1->dwave-ocean-sdk) (3.1.4)\n",
            "Requirement already satisfied: itsdangerous>=2.1.2 in /usr/local/lib/python3.10/dist-packages (from Flask<4,>=2.2->dwave-inspector==0.5.1->dwave-ocean-sdk) (2.2.0)\n",
            "Requirement already satisfied: blinker>=1.6.2 in /usr/local/lib/python3.10/dist-packages (from Flask<4,>=2.2->dwave-inspector==0.5.1->dwave-ocean-sdk) (1.9.0)\n",
            "Requirement already satisfied: zipp>=3.20 in /usr/local/lib/python3.10/dist-packages (from importlib-metadata>=5.0.0->dwave-cloud-client==0.13.1->dwave-ocean-sdk) (3.20.2)\n",
            "Requirement already satisfied: annotated-types>=0.6.0 in /usr/local/lib/python3.10/dist-packages (from pydantic<3,>=2->dwave-cloud-client==0.13.1->dwave-ocean-sdk) (0.7.0)\n",
            "Requirement already satisfied: pydantic-core==2.23.4 in /usr/local/lib/python3.10/dist-packages (from pydantic<3,>=2->dwave-cloud-client==0.13.1->dwave-ocean-sdk) (2.23.4)\n",
            "Requirement already satisfied: six>=1.5 in /usr/local/lib/python3.10/dist-packages (from python-dateutil<3,>=2.7->dwave-cloud-client==0.13.1->dwave-ocean-sdk) (1.16.0)\n",
            "Requirement already satisfied: charset-normalizer<4,>=2 in /usr/local/lib/python3.10/dist-packages (from requests<3,>=2.25->requests[socks]<3,>=2.25->dwave-cloud-client==0.13.1->dwave-ocean-sdk) (3.4.0)\n",
            "Requirement already satisfied: idna<4,>=2.5 in /usr/local/lib/python3.10/dist-packages (from requests<3,>=2.25->requests[socks]<3,>=2.25->dwave-cloud-client==0.13.1->dwave-ocean-sdk) (3.10)\n",
            "Requirement already satisfied: certifi>=2017.4.17 in /usr/local/lib/python3.10/dist-packages (from requests<3,>=2.25->requests[socks]<3,>=2.25->dwave-cloud-client==0.13.1->dwave-ocean-sdk) (2024.8.30)\n",
            "Requirement already satisfied: PySocks!=1.5.7,>=1.5.6 in /usr/local/lib/python3.10/dist-packages (from requests[socks]<3,>=2.25->dwave-cloud-client==0.13.1->dwave-ocean-sdk) (1.7.1)\n",
            "Requirement already satisfied: MarkupSafe>=2.1.1 in /usr/local/lib/python3.10/dist-packages (from werkzeug<4,>=2.2->dwave-cloud-client==0.13.1->dwave-ocean-sdk) (3.0.2)\n",
            "Requirement already satisfied: cffi>=1.12 in /usr/local/lib/python3.10/dist-packages (from cryptography->authlib<2,>=1.2->dwave-cloud-client==0.13.1->dwave-ocean-sdk) (1.17.1)\n",
            "Requirement already satisfied: pycparser in /usr/local/lib/python3.10/dist-packages (from cffi>=1.12->cryptography->authlib<2,>=1.2->dwave-cloud-client==0.13.1->dwave-ocean-sdk) (2.22)\n",
            "Downloading dwave_ocean_sdk-8.0.1-py3-none-any.whl (8.4 kB)\n",
            "Downloading dimod-0.12.17-cp310-cp310-manylinux_2_17_x86_64.manylinux2014_x86_64.whl (9.0 MB)\n",
            "\u001b[2K   \u001b[90m━━━━━━━━━━━━━━━━━━━━━━━━━━━━━━━━━━━━━━━━\u001b[0m \u001b[32m9.0/9.0 MB\u001b[0m \u001b[31m49.2 MB/s\u001b[0m eta \u001b[36m0:00:00\u001b[0m\n",
            "\u001b[?25hDownloading dwave_cloud_client-0.13.1-py3-none-any.whl (158 kB)\n",
            "\u001b[2K   \u001b[90m━━━━━━━━━━━━━━━━━━━━━━━━━━━━━━━━━━━━━━━━\u001b[0m \u001b[32m158.9/158.9 kB\u001b[0m \u001b[31m11.2 MB/s\u001b[0m eta \u001b[36m0:00:00\u001b[0m\n",
            "\u001b[?25hDownloading dwave_gate-0.3.2-cp310-cp310-manylinux_2_17_x86_64.manylinux2014_x86_64.whl (1.5 MB)\n",
            "\u001b[2K   \u001b[90m━━━━━━━━━━━━━━━━━━━━━━━━━━━━━━━━━━━━━━━━\u001b[0m \u001b[32m1.5/1.5 MB\u001b[0m \u001b[31m50.2 MB/s\u001b[0m eta \u001b[36m0:00:00\u001b[0m\n",
            "\u001b[?25hDownloading dwave_greedy-0.3.0-py3-none-any.whl (10 kB)\n",
            "Downloading dwave_hybrid-0.6.12-py3-none-any.whl (77 kB)\n",
            "\u001b[2K   \u001b[90m━━━━━━━━━━━━━━━━━━━━━━━━━━━━━━━━━━━━━━━━\u001b[0m \u001b[32m77.5/77.5 kB\u001b[0m \u001b[31m5.5 MB/s\u001b[0m eta \u001b[36m0:00:00\u001b[0m\n",
            "\u001b[?25hDownloading dwave_inspector-0.5.1-py3-none-any.whl (31 kB)\n",
            "Downloading dwave_neal-0.6.0-py3-none-any.whl (8.7 kB)\n",
            "Downloading dwave_networkx-0.8.15-py3-none-any.whl (102 kB)\n",
            "\u001b[2K   \u001b[90m━━━━━━━━━━━━━━━━━━━━━━━━━━━━━━━━━━━━━━━━\u001b[0m \u001b[32m102.3/102.3 kB\u001b[0m \u001b[31m8.4 MB/s\u001b[0m eta \u001b[36m0:00:00\u001b[0m\n",
            "\u001b[?25hDownloading dwave_optimization-0.3.0-cp310-cp310-manylinux_2_24_x86_64.manylinux_2_28_x86_64.whl (2.4 MB)\n",
            "\u001b[2K   \u001b[90m━━━━━━━━━━━━━━━━━━━━━━━━━━━━━━━━━━━━━━━━\u001b[0m \u001b[32m2.4/2.4 MB\u001b[0m \u001b[31m65.4 MB/s\u001b[0m eta \u001b[36m0:00:00\u001b[0m\n",
            "\u001b[?25hDownloading dwave_preprocessing-0.6.6-cp310-cp310-manylinux_2_17_x86_64.manylinux2014_x86_64.whl (3.3 MB)\n",
            "\u001b[2K   \u001b[90m━━━━━━━━━━━━━━━━━━━━━━━━━━━━━━━━━━━━━━━━\u001b[0m \u001b[32m3.3/3.3 MB\u001b[0m \u001b[31m75.4 MB/s\u001b[0m eta \u001b[36m0:00:00\u001b[0m\n",
            "\u001b[?25hDownloading dwave_samplers-1.3.0-cp310-cp310-manylinux_2_17_x86_64.manylinux2014_x86_64.whl (6.7 MB)\n",
            "\u001b[2K   \u001b[90m━━━━━━━━━━━━━━━━━━━━━━━━━━━━━━━━━━━━━━━━\u001b[0m \u001b[32m6.7/6.7 MB\u001b[0m \u001b[31m53.1 MB/s\u001b[0m eta \u001b[36m0:00:00\u001b[0m\n",
            "\u001b[?25hDownloading dwave_system-1.26.0-py3-none-any.whl (107 kB)\n",
            "\u001b[2K   \u001b[90m━━━━━━━━━━━━━━━━━━━━━━━━━━━━━━━━━━━━━━━━\u001b[0m \u001b[32m107.0/107.0 kB\u001b[0m \u001b[31m7.1 MB/s\u001b[0m eta \u001b[36m0:00:00\u001b[0m\n",
            "\u001b[?25hDownloading dwave_tabu-0.5.0-py3-none-any.whl (9.2 kB)\n",
            "Downloading dwavebinarycsp-0.3.0-py3-none-any.whl (35 kB)\n",
            "Downloading minorminer-0.2.15-cp310-cp310-manylinux_2_17_x86_64.manylinux2014_x86_64.whl (3.3 MB)\n",
            "\u001b[2K   \u001b[90m━━━━━━━━━━━━━━━━━━━━━━━━━━━━━━━━━━━━━━━━\u001b[0m \u001b[32m3.3/3.3 MB\u001b[0m \u001b[31m76.5 MB/s\u001b[0m eta \u001b[36m0:00:00\u001b[0m\n",
            "\u001b[?25hDownloading penaltymodel-1.1.0-py3-none-any.whl (36 kB)\n",
            "Downloading Authlib-1.3.2-py2.py3-none-any.whl (225 kB)\n",
            "\u001b[2K   \u001b[90m━━━━━━━━━━━━━━━━━━━━━━━━━━━━━━━━━━━━━━━━\u001b[0m \u001b[32m225.1/225.1 kB\u001b[0m \u001b[31m14.2 MB/s\u001b[0m eta \u001b[36m0:00:00\u001b[0m\n",
            "\u001b[?25hDownloading diskcache-5.6.3-py3-none-any.whl (45 kB)\n",
            "\u001b[2K   \u001b[90m━━━━━━━━━━━━━━━━━━━━━━━━━━━━━━━━━━━━━━━━\u001b[0m \u001b[32m45.5/45.5 kB\u001b[0m \u001b[31m2.9 MB/s\u001b[0m eta \u001b[36m0:00:00\u001b[0m\n",
            "\u001b[?25hDownloading fasteners-0.19-py3-none-any.whl (18 kB)\n",
            "Downloading homebase-1.0.1-py2.py3-none-any.whl (11 kB)\n",
            "Downloading plucky-0.4.3-py2.py3-none-any.whl (10 kB)\n",
            "Installing collected packages: plucky, homebase, fasteners, dwave-optimization, dwave-gate, diskcache, dimod, penaltymodel, dwave-samplers, dwave-preprocessing, dwave-networkx, minorminer, dwavebinarycsp, dwave-tabu, dwave-neal, dwave-greedy, authlib, dwave-cloud-client, dwave-system, dwave-inspector, dwave-hybrid, dwave-ocean-sdk\n",
            "Successfully installed authlib-1.3.2 dimod-0.12.17 diskcache-5.6.3 dwave-cloud-client-0.13.1 dwave-gate-0.3.2 dwave-greedy-0.3.0 dwave-hybrid-0.6.12 dwave-inspector-0.5.1 dwave-neal-0.6.0 dwave-networkx-0.8.15 dwave-ocean-sdk-8.0.1 dwave-optimization-0.3.0 dwave-preprocessing-0.6.6 dwave-samplers-1.3.0 dwave-system-1.26.0 dwave-tabu-0.5.0 dwavebinarycsp-0.3.0 fasteners-0.19 homebase-1.0.1 minorminer-0.2.15 penaltymodel-1.1.0 plucky-0.4.3\n"
          ]
        }
      ]
    },
    {
      "cell_type": "code",
      "source": [
        "!dwave config create"
      ],
      "metadata": {
        "colab": {
          "base_uri": "https://localhost:8080/"
        },
        "id": "-5A0gsSv2z4m",
        "outputId": "f5a54ab8-877f-437e-81f5-29e9118769f5"
      },
      "execution_count": null,
      "outputs": [
        {
          "output_type": "stream",
          "name": "stdout",
          "text": [
            "Using the simplified configuration flow.\n",
            "Try 'dwave config create --full' for more options.\n",
            "\n",
            "Updating existing configuration file: /root/.config/dwave/dwave.conf\n",
            "Available profiles: defaults\n",
            "Updating existing profile: defaults\n",
            "Solver API token [skip]: DEV-f9475f07064074a195542d4109ed8d65b8f015b8\n",
            "Configuration saved.\n"
          ]
        }
      ]
    },
    {
      "cell_type": "markdown",
      "source": [
        "## Resolución"
      ],
      "metadata": {
        "id": "mCSTQzFWAbMS"
      }
    },
    {
      "cell_type": "code",
      "source": [
        "from dwave.system import DWaveSampler, EmbeddingComposite\n",
        "from dimod import BinaryQuadraticModel\n",
        "import numpy as np"
      ],
      "metadata": {
        "id": "RKjiVCg42ECP"
      },
      "execution_count": null,
      "outputs": []
    },
    {
      "cell_type": "markdown",
      "source": [
        "Función para leer acorde al formato indicado"
      ],
      "metadata": {
        "id": "68LtrEP_AdJy"
      }
    },
    {
      "cell_type": "code",
      "source": [
        "def load_knapsack_instance(filename):\n",
        "    with open(filename, 'r') as f:\n",
        "        data = list(map(float, f.read().split()))\n",
        "\n",
        "    num_variables = int(data[0])\n",
        "    num_constraints = int(data[1])\n",
        "    optimal_value = data[2]\n",
        "    values = data[3:3 + num_variables]\n",
        "    constraint_coefficients = data[3 + num_variables:3 + num_variables + num_variables * num_constraints]\n",
        "    rhs_constraints = data[3 + num_variables + num_variables * num_constraints:]\n",
        "    constraint_coefficients = np.array(constraint_coefficients).reshape((num_constraints, num_variables))\n",
        "\n",
        "    return num_variables, num_constraints, values, constraint_coefficients, rhs_constraints, optimal_value\n"
      ],
      "metadata": {
        "id": "HL4chLSV2JXA"
      },
      "execution_count": null,
      "outputs": []
    },
    {
      "cell_type": "markdown",
      "source": [
        "Función para construir el qubo"
      ],
      "metadata": {
        "id": "eJryUzBbAgBt"
      }
    },
    {
      "cell_type": "code",
      "source": [
        "def build_qubo(num_variables, num_constraints, values, constraint_coefficients, rhs_constraints, penalty):\n",
        "    qubo = {}\n",
        "\n",
        "    for i in range(num_variables):\n",
        "        qubo[(i, i)] = -values[i]\n",
        "\n",
        "    for j in range(num_constraints):\n",
        "        for i in range(num_variables):\n",
        "            qubo[(i, i)] += penalty * (constraint_coefficients[j, i] ** 2)\n",
        "            for k in range(i + 1, num_variables):\n",
        "                qubo[(i, k)] = qubo.get((i, k), 0) + penalty * 2 * constraint_coefficients[j, i] * constraint_coefficients[j, k]\n",
        "\n",
        "    for j in range(num_constraints):\n",
        "        for i in range(num_variables):\n",
        "            qubo[(i, i)] -= 2 * penalty * constraint_coefficients[j, i] * rhs_constraints[j]\n",
        "\n",
        "    return qubo"
      ],
      "metadata": {
        "id": "ouCjKYJX2J60"
      },
      "execution_count": null,
      "outputs": []
    },
    {
      "cell_type": "markdown",
      "source": [
        "Función para resolver el QUBO"
      ],
      "metadata": {
        "id": "gq3j3wxMAi9T"
      }
    },
    {
      "cell_type": "code",
      "source": [
        "def solve_qubo(qubo,num_variables,values):\n",
        "    sampler = EmbeddingComposite(DWaveSampler())\n",
        "\n",
        "    result = sampler.sample_qubo(qubo, num_reads=100)\n",
        "\n",
        "    best_solution = result.first.sample\n",
        "    best_energy = result.first.energy\n",
        "\n",
        "    total_value = sum(values[i] for i in range(num_variables) if best_solution[i] == 1)\n",
        "\n",
        "    return result, best_solution, total_value, best_energy"
      ],
      "metadata": {
        "id": "5Y8_Weed2MqC"
      },
      "execution_count": null,
      "outputs": []
    },
    {
      "cell_type": "markdown",
      "source": [
        "Función que computa los resultados en base al nombre del archivo"
      ],
      "metadata": {
        "id": "aPrXV0tSAmv_"
      }
    },
    {
      "cell_type": "code",
      "source": [
        "def solve_knapsack(filename, penalty=10):\n",
        "    num_variables, num_constraints, values, constraint_coefficients, rhs_constraints, optimal_value = load_knapsack_instance(filename)\n",
        "\n",
        "    qubo = build_qubo(num_variables, num_constraints, values, constraint_coefficients, rhs_constraints, penalty)\n",
        "    print(qubo)\n",
        "    result, best_solution, total_value, best_energy = solve_qubo(qubo, num_variables, values)\n",
        "\n",
        "    print(\"\\nReal optimal value:\")\n",
        "\n",
        "    print(optimal_value)\n",
        "\n",
        "    print(\"\\nResults from the quantum annealer:\")\n",
        "\n",
        "    print(\"Value: \", total_value)\n",
        "\n",
        "    print(\"Best Solution: \", best_solution)\n"
      ],
      "metadata": {
        "id": "KfXTOb0u2Rw5"
      },
      "execution_count": null,
      "outputs": []
    },
    {
      "cell_type": "markdown",
      "source": [
        "Iteramos en los experimentos"
      ],
      "metadata": {
        "id": "-Gre2rG8AtWX"
      }
    },
    {
      "cell_type": "code",
      "source": [
        "for i in range(1,8):\n",
        "\n",
        "  filename = f'md-knap{i}.txt'\n",
        "  print(f\"\"\"\n",
        "***************************************\n",
        "\n",
        "Experimento para md-knap{i}.txt\n",
        "\n",
        "***************************************\n",
        "  \"\"\")\n",
        "  try:\n",
        "    solve_knapsack(filename)\n",
        "  except Exception as e:\n",
        "    print(e)\n",
        "    print(\"No se pudo resolver el problema\")"
      ],
      "metadata": {
        "colab": {
          "base_uri": "https://localhost:8080/"
        },
        "id": "4xOpM4SV2TV-",
        "outputId": "733adb05-d004-4fa9-b16f-989da28193ca"
      },
      "execution_count": null,
      "outputs": [
        {
          "output_type": "stream",
          "name": "stdout",
          "text": [
            "\n",
            "***************************************\n",
            "\n",
            "Experimento para md-knap1.txt\n",
            "  \n",
            "***************************************\n",
            "  \n",
            "{(0, 0): -43710.0, (1, 1): -70500.0, (2, 2): -68220.0, (3, 3): -213910.0, (4, 4): -93860.0, (5, 5): -153500.0, (0, 1): 8040.0, (0, 2): 7520.0, (0, 3): 36000.0, (0, 4): 10640.0, (0, 5): 19040.0, (1, 2): 12800.0, (1, 3): 65640.0, (1, 4): 16240.0, (1, 5): 33280.0, (2, 3): 57740.0, (2, 4): 16720.0, (2, 5): 30600.0, (3, 4): 79240.0, (3, 5): 159740.0, (4, 5): 44080.0}\n",
            "\n",
            "Real optimal value:\n",
            "3800.0\n",
            "\n",
            "Results from the quantum annealer:\n",
            "Value:  4300.0\n",
            "Best Solution:  {0: 0, 1: 1, 2: 1, 3: 0, 4: 1, 5: 1}\n",
            "\n",
            "***************************************\n",
            "\n",
            "Experimento para md-knap2.txt\n",
            "  \n",
            "***************************************\n",
            "  \n",
            "{(0, 0): -3379600.1, (1, 1): -785340.5, (2, 2): -5788800.0, (3, 3): -12722850.0, (4, 4): -317778.6, (5, 5): -627348.7, (6, 6): -4215882.0, (7, 7): -8427950.0, (8, 8): -2825042.5, (9, 9): -2204287.0, (0, 1): 95600.0, (0, 2): 670000.0, (0, 3): 1866000.0, (0, 4): 40800.0, (0, 5): 71900.0, (0, 6): 453000.0, (0, 7): 994000.0, (0, 8): 238800.0, (0, 9): 241800.0, (1, 2): 146800.0, (1, 3): 407000.0, (1, 4): 8560.0, (1, 5): 16400.0, (1, 6): 102400.0, (1, 7): 228700.0, (1, 8): 58240.0, (1, 9): 52240.0, (2, 3): 3250000.0, (2, 4): 59600.0, (2, 5): 117200.0, (2, 6): 892000.0, (2, 7): 1953000.0, (2, 8): 635200.0, (2, 9): 440800.0, (3, 4): 161600.0, (3, 5): 324800.0, (3, 6): 2332000.0, (3, 7): 5006000.0, (3, 8): 1503200.0, (3, 9): 1144800.0, (4, 5): 6520.0, (4, 6): 39200.0, (4, 7): 91600.0, (4, 8): 21920.0, (4, 9): 20720.0, (5, 6): 83000.0, (5, 7): 184600.0, (5, 8): 48960.0, (5, 9): 40880.0, (6, 7): 1381000.0, (6, 8): 462000.0, (6, 9): 314800.0, (7, 8): 1001400.0, (7, 9): 719600.0, (8, 9): 227760.0}\n",
            "\n",
            "Real optimal value:\n",
            "8706.1\n",
            "\n",
            "Results from the quantum annealer:\n",
            "Value:  9175.8\n",
            "Best Solution:  {0: 1, 1: 0, 2: 0, 3: 1, 4: 0, 5: 1, 6: 0, 7: 1, 8: 0, 9: 1}\n",
            "\n",
            "***************************************\n",
            "\n",
            "Experimento para md-knap3.txt\n",
            "  \n",
            "***************************************\n",
            "  \n",
            "{(0, 0): -332910.0, (1, 1): -1130550.0, (2, 2): -559130.0, (3, 3): -3332400.0, (4, 4): -3001860.0, (5, 5): -2985400.0, (6, 6): -1962325.0, (7, 7): -833590.0, (8, 8): -1148320.0, (9, 9): -3301240.0, (10, 10): -4609240.0, (11, 11): -1347080.0, (12, 12): -1248100.0, (13, 13): -5090050.0, (14, 14): -1682650.0, (0, 1): 15420.0, (0, 2): 7780.0, (0, 3): 49600.0, (0, 4): 43720.0, (0, 5): 44600.0, (0, 6): 27320.0, (0, 7): 11020.0, (0, 8): 16880.0, (0, 9): 47320.0, (0, 10): 71560.0, (0, 11): 19220.0, (0, 12): 17160.0, (0, 13): 75300.0, (0, 14): 24200.0, (1, 2): 25240.0, (1, 3): 169900.0, (1, 4): 156240.0, (1, 5): 153200.0, (1, 6): 104720.0, (1, 7): 38780.0, (1, 8): 54280.0, (1, 9): 177400.0, (1, 10): 238320.0, (1, 11): 62440.0, (1, 12): 60620.0, (1, 13): 260900.0, (1, 14): 77700.0, (2, 3): 81800.0, (2, 4): 72520.0, (2, 5): 72000.0, (2, 6): 45000.0, (2, 7): 19660.0, (2, 8): 27320.0, (2, 9): 79440.0, (2, 10): 117560.0, (2, 11): 32720.0, (2, 12): 29600.0, (2, 13): 139900.0, (2, 14): 40600.0, (3, 4): 472100.0, (3, 5): 472000.0, (3, 6): 300900.0, (3, 7): 119800.0, (3, 8): 174800.0, (3, 9): 517100.0, (3, 10): 756800.0, (3, 11): 203500.0, (3, 12): 185900.0, (3, 13): 816500.0, (3, 14): 254500.0, (4, 5): 421600.0, (4, 6): 275720.0, (4, 7): 107500.0, (4, 8): 154000.0, (4, 9): 472720.0, (4, 10): 669040.0, (4, 11): 179200.0, (4, 12): 167240.0, (4, 13): 733000.0, (4, 14): 222600.0, (5, 6): 270200.0, (5, 7): 104400.0, (5, 8): 157600.0, (5, 9): 466400.0, (5, 10): 682800.0, (5, 11): 178200.0, (5, 12): 161000.0, (5, 13): 714000.0, (5, 14): 225000.0, (6, 7): 68640.0, (6, 8): 96080.0, (6, 9): 313080.0, (6, 10): 422160.0, (6, 11): 111480.0, (6, 12): 107120.0, (6, 13): 463700.0, (6, 14): 138400.0, (7, 8): 38480.0, (7, 9): 120760.0, (7, 10): 171400.0, (7, 11): 47120.0, (7, 12): 45320.0, (7, 13): 225500.0, (7, 14): 59600.0, (8, 9): 166080.0, (8, 10): 252400.0, (8, 11): 67560.0, (8, 12): 60120.0, (8, 13): 261800.0, (8, 14): 85000.0, (9, 10): 736560.0, (9, 11): 194520.0, (9, 12): 183760.0, (9, 13): 840100.0, (9, 14): 242800.0, (10, 11): 290600.0, (10, 12): 259520.0, (10, 13): 1193000.0, (10, 14): 368800.0, (11, 12): 72400.0, (11, 13): 328300.0, (11, 14): 100200.0, (12, 13): 312700.0, (12, 14): 90000.0, (13, 14): 419500.0}\n",
            "\n",
            "Real optimal value:\n",
            "4015.0\n",
            "\n",
            "Results from the quantum annealer:\n",
            "Value:  3295.0\n",
            "Best Solution:  {0: 1, 1: 0, 2: 1, 3: 1, 4: 1, 5: 1, 6: 1, 7: 0, 8: 0, 9: 0, 10: 1, 11: 0, 12: 1, 13: 1, 14: 0}\n",
            "\n",
            "***************************************\n",
            "\n",
            "Experimento para md-knap4.txt\n",
            "  \n",
            "***************************************\n",
            "  \n",
            "{(0, 0): -332910.0, (1, 1): -1130550.0, (2, 2): -559130.0, (3, 3): -3332400.0, (4, 4): -3001860.0, (5, 5): -2985400.0, (6, 6): -1962325.0, (7, 7): -833590.0, (8, 8): -1148320.0, (9, 9): -3301240.0, (10, 10): -4609240.0, (11, 11): -1347080.0, (12, 12): -1248100.0, (13, 13): -5090050.0, (14, 14): -1682650.0, (15, 15): -1576070.0, (16, 16): -1542950.0, (17, 17): -384840.0, (18, 18): -170210.0, (19, 19): -6351550.0, (0, 1): 15420.0, (0, 2): 7780.0, (0, 3): 49600.0, (0, 4): 43720.0, (0, 5): 44600.0, (0, 6): 27320.0, (0, 7): 11020.0, (0, 8): 16880.0, (0, 9): 47320.0, (0, 10): 71560.0, (0, 11): 19220.0, (0, 12): 17160.0, (0, 13): 75300.0, (0, 14): 24200.0, (0, 15): 21300.0, (0, 16): 21360.0, (0, 17): 5320.0, (0, 18): 2200.0, (0, 19): 104000.0, (1, 2): 25240.0, (1, 3): 169900.0, (1, 4): 156240.0, (1, 5): 153200.0, (1, 6): 104720.0, (1, 7): 38780.0, (1, 8): 54280.0, (1, 9): 177400.0, (1, 10): 238320.0, (1, 11): 62440.0, (1, 12): 60620.0, (1, 13): 260900.0, (1, 14): 77700.0, (1, 15): 82100.0, (1, 16): 78100.0, (1, 17): 17420.0, (1, 18): 8360.0, (1, 19): 375000.0, (2, 3): 81800.0, (2, 4): 72520.0, (2, 5): 72000.0, (2, 6): 45000.0, (2, 7): 19660.0, (2, 8): 27320.0, (2, 9): 79440.0, (2, 10): 117560.0, (2, 11): 32720.0, (2, 12): 29600.0, (2, 13): 139900.0, (2, 14): 40600.0, (2, 15): 36300.0, (2, 16): 36260.0, (2, 17): 9320.0, (2, 18): 3880.0, (2, 19): 168000.0, (3, 4): 472100.0, (3, 5): 472000.0, (3, 6): 300900.0, (3, 7): 119800.0, (3, 8): 174800.0, (3, 9): 517100.0, (3, 10): 756800.0, (3, 11): 203500.0, (3, 12): 185900.0, (3, 13): 816500.0, (3, 14): 254500.0, (3, 15): 238000.0, (3, 16): 235500.0, (3, 17): 56000.0, (3, 18): 24500.0, (3, 19): 1128000.0, (4, 5): 421600.0, (4, 6): 275720.0, (4, 7): 107500.0, (4, 8): 154000.0, (4, 9): 472720.0, (4, 10): 669040.0, (4, 11): 179200.0, (4, 12): 167240.0, (4, 13): 733000.0, (4, 14): 222600.0, (4, 15): 217700.0, (4, 16): 212680.0, (4, 17): 49840.0, (4, 18): 22380.0, (4, 19): 1013800.0, (5, 6): 270200.0, (5, 7): 104400.0, (5, 8): 157600.0, (5, 9): 466400.0, (5, 10): 682800.0, (5, 11): 178200.0, (5, 12): 161000.0, (5, 13): 714000.0, (5, 14): 225000.0, (5, 15): 208000.0, (5, 16): 202800.0, (5, 17): 48600.0, (5, 18): 21200.0, (5, 19): 1008000.0, (6, 7): 68640.0, (6, 8): 96080.0, (6, 9): 313080.0, (6, 10): 422160.0, (6, 11): 111480.0, (6, 12): 107120.0, (6, 13): 463700.0, (6, 14): 138400.0, (6, 15): 144900.0, (6, 16): 137540.0, (6, 17): 30880.0, (6, 18): 14800.0, (6, 19): 663000.0, (7, 8): 38480.0, (7, 9): 120760.0, (7, 10): 171400.0, (7, 11): 47120.0, (7, 12): 45320.0, (7, 13): 225500.0, (7, 14): 59600.0, (7, 15): 56500.0, (7, 16): 55460.0, (7, 17): 13820.0, (7, 18): 6120.0, (7, 19): 246400.0, (8, 9): 166080.0, (8, 10): 252400.0, (8, 11): 67560.0, (8, 12): 60120.0, (8, 13): 261800.0, (8, 14): 85000.0, (8, 15): 74600.0, (8, 16): 75080.0, (8, 17): 18680.0, (8, 18): 7680.0, (8, 19): 366400.0, (9, 10): 736560.0, (9, 11): 194520.0, (9, 12): 183760.0, (9, 13): 840100.0, (9, 14): 242800.0, (9, 15): 245900.0, (9, 16): 230800.0, (9, 17): 53680.0, (9, 18): 25380.0, (9, 19): 1127000.0, (10, 11): 290600.0, (10, 12): 259520.0, (10, 13): 1193000.0, (10, 14): 368800.0, (10, 15): 328600.0, (10, 16): 323240.0, (10, 17): 79120.0, (10, 18): 33840.0, (10, 19): 1590400.0, (11, 12): 72400.0, (11, 13): 328300.0, (11, 14): 100200.0, (11, 15): 89800.0, (11, 16): 90120.0, (11, 17): 22440.0, (11, 18): 9440.0, (11, 19): 423000.0, (12, 13): 312700.0, (12, 14): 90000.0, (12, 15): 87900.0, (12, 16): 88000.0, (12, 17): 21080.0, (12, 18): 9280.0, (12, 19): 391400.0, (13, 14): 419500.0, (13, 15): 384000.0, (13, 16): 370700.0, (13, 17): 97300.0, (13, 18): 42600.0, (13, 19): 1641000.0, (14, 15): 110500.0, (14, 16): 110400.0, (14, 17): 27800.0, (14, 18): 11600.0, (14, 19): 527000.0, (15, 16): 112900.0, (15, 17): 25400.0, (15, 18): 12200.0, (15, 19): 520000.0, (16, 17): 26080.0, (16, 18): 11720.0, (16, 19): 502600.0, (17, 18): 2740.0, (17, 19): 114000.0, (18, 19): 52600.0}\n",
            "\n",
            "Real optimal value:\n",
            "6120.0\n",
            "\n",
            "Results from the quantum annealer:\n",
            "Value:  5700.0\n",
            "Best Solution:  {0: 0, 1: 0, 2: 0, 3: 1, 4: 0, 5: 1, 6: 0, 7: 0, 8: 1, 9: 0, 10: 0, 11: 0, 12: 1, 13: 1, 14: 1, 15: 0, 16: 0, 17: 1, 18: 1, 19: 1}\n",
            "\n",
            "***************************************\n",
            "\n",
            "Experimento para md-knap5.txt\n",
            "  \n",
            "***************************************\n",
            "  \n",
            "{(0, 0): -594630.0, (1, 1): -2007030.0, (2, 2): -999090.0, (3, 3): -6115500.0, (4, 4): -5466560.0, (5, 5): -5459400.0, (6, 6): -3511485.0, (7, 7): -1493050.0, (8, 8): -2069760.0, (9, 9): -5994480.0, (10, 10): -8626840.0, (11, 11): -2425140.0, (12, 12): -2240020.0, (13, 13): -9708650.0, (14, 14): -3050850.0, (15, 15): -2809370.0, (16, 16): -2778470.0, (17, 17): -689660.0, (18, 18): -299370.0, (19, 19): -12120950.0, (20, 20): -13498300.0, (21, 21): -5802350.0, (22, 22): -3822000.0, (23, 23): -4589400.0, (24, 24): -2039170.0, (25, 25): -1260380.0, (26, 26): -769710.0, (27, 27): -2394560.0, (0, 1): 15420.0, (0, 2): 7780.0, (0, 3): 49600.0, (0, 4): 43720.0, (0, 5): 44600.0, (0, 6): 27320.0, (0, 7): 11020.0, (0, 8): 16880.0, (0, 9): 47320.0, (0, 10): 71560.0, (0, 11): 19220.0, (0, 12): 17160.0, (0, 13): 75300.0, (0, 14): 24200.0, (0, 15): 21300.0, (0, 16): 21360.0, (0, 17): 5320.0, (0, 18): 2200.0, (0, 19): 104000.0, (0, 20): 113600.0, (0, 21): 47300.0, (0, 22): 29100.0, (0, 23): 36700.0, (0, 24): 15240.0, (0, 25): 9420.0, (0, 26): 5860.0, (0, 27): 18520.0, (1, 2): 25240.0, (1, 3): 169900.0, (1, 4): 156240.0, (1, 5): 153200.0, (1, 6): 104720.0, (1, 7): 38780.0, (1, 8): 54280.0, (1, 9): 177400.0, (1, 10): 238320.0, (1, 11): 62440.0, (1, 12): 60620.0, (1, 13): 260900.0, (1, 14): 77700.0, (1, 15): 82100.0, (1, 16): 78100.0, (1, 17): 17420.0, (1, 18): 8360.0, (1, 19): 375000.0, (1, 20): 426800.0, (1, 21): 149600.0, (1, 22): 114600.0, (1, 23): 122400.0, (1, 24): 48220.0, (1, 25): 29860.0, (1, 26): 17660.0, (1, 27): 56320.0, (2, 3): 81800.0, (2, 4): 72520.0, (2, 5): 72000.0, (2, 6): 45000.0, (2, 7): 19660.0, (2, 8): 27320.0, (2, 9): 79440.0, (2, 10): 117560.0, (2, 11): 32720.0, (2, 12): 29600.0, (2, 13): 139900.0, (2, 14): 40600.0, (2, 15): 36300.0, (2, 16): 36260.0, (2, 17): 9320.0, (2, 18): 3880.0, (2, 19): 168000.0, (2, 20): 189000.0, (2, 21): 80500.0, (2, 22): 49500.0, (2, 23): 60900.0, (2, 24): 27840.0, (2, 25): 17020.0, (2, 26): 10800.0, (2, 27): 33040.0, (3, 4): 472100.0, (3, 5): 472000.0, (3, 6): 300900.0, (3, 7): 119800.0, (3, 8): 174800.0, (3, 9): 517100.0, (3, 10): 756800.0, (3, 11): 203500.0, (3, 12): 185900.0, (3, 13): 816500.0, (3, 14): 254500.0, (3, 15): 238000.0, (3, 16): 235500.0, (3, 17): 56000.0, (3, 18): 24500.0, (3, 19): 1128000.0, (3, 20): 1243000.0, (3, 21): 494000.0, (3, 22): 324500.0, (3, 23): 395000.0, (3, 24): 162700.0, (3, 25): 102000.0, (3, 26): 60800.0, (3, 27): 193200.0, (4, 5): 421600.0, (4, 6): 275720.0, (4, 7): 107500.0, (4, 8): 154000.0, (4, 9): 472720.0, (4, 10): 669040.0, (4, 11): 179200.0, (4, 12): 167240.0, (4, 13): 733000.0, (4, 14): 222600.0, (4, 15): 217700.0, (4, 16): 212680.0, (4, 17): 49840.0, (4, 18): 22380.0, (4, 19): 1013800.0, (4, 20): 1134000.0, (4, 21): 434100.0, (4, 22): 300400.0, (4, 23): 346300.0, (4, 24): 142200.0, (4, 25): 88600.0, (4, 26): 53000.0, (4, 27): 168080.0, (5, 6): 270200.0, (5, 7): 104400.0, (5, 8): 157600.0, (5, 9): 466400.0, (5, 10): 682800.0, (5, 11): 178200.0, (5, 12): 161000.0, (5, 13): 714000.0, (5, 14): 225000.0, (5, 15): 208000.0, (5, 16): 202800.0, (5, 17): 48600.0, (5, 18): 21200.0, (5, 19): 1008000.0, (5, 20): 1126000.0, (5, 21): 432000.0, (5, 22): 286000.0, (5, 23): 342000.0, (5, 24): 136800.0, (5, 25): 83600.0, (5, 26): 51200.0, (5, 27): 165600.0, (6, 7): 68640.0, (6, 8): 96080.0, (6, 9): 313080.0, (6, 10): 422160.0, (6, 11): 111480.0, (6, 12): 107120.0, (6, 13): 463700.0, (6, 14): 138400.0, (6, 15): 144900.0, (6, 16): 137540.0, (6, 17): 30880.0, (6, 18): 14800.0, (6, 19): 663000.0, (6, 20): 752600.0, (6, 21): 264600.0, (6, 22): 200600.0, (6, 23): 217600.0, (6, 24): 85800.0, (6, 25): 53200.0, (6, 26): 31760.0, (6, 27): 100280.0, (7, 8): 38480.0, (7, 9): 120760.0, (7, 10): 171400.0, (7, 11): 47120.0, (7, 12): 45320.0, (7, 13): 225500.0, (7, 14): 59600.0, (7, 15): 56500.0, (7, 16): 55460.0, (7, 17): 13820.0, (7, 18): 6120.0, (7, 19): 246400.0, (7, 20): 289200.0, (7, 21): 116900.0, (7, 22): 77700.0, (7, 23): 90000.0, (7, 24): 43600.0, (7, 25): 26400.0, (7, 26): 16420.0, (7, 27): 49520.0, (8, 9): 166080.0, (8, 10): 252400.0, (8, 11): 67560.0, (8, 12): 60120.0, (8, 13): 261800.0, (8, 14): 85000.0, (8, 15): 74600.0, (8, 16): 75080.0, (8, 17): 18680.0, (8, 18): 7680.0, (8, 19): 366400.0, (8, 20): 398800.0, (8, 21): 167000.0, (8, 22): 102200.0, (8, 23): 129000.0, (8, 24): 53240.0, (8, 25): 32920.0, (8, 26): 20360.0, (8, 27): 64960.0, (9, 10): 736560.0, (9, 11): 194520.0, (9, 12): 183760.0, (9, 13): 840100.0, (9, 14): 242800.0, (9, 15): 245900.0, (9, 16): 230800.0, (9, 17): 53680.0, (9, 18): 25380.0, (9, 19): 1127000.0, (9, 20): 1304000.0, (9, 21): 456000.0, (9, 22): 337400.0, (9, 23): 371800.0, (9, 24): 151300.0, (9, 25): 91800.0, (9, 26): 57600.0, (9, 27): 177200.0, (10, 11): 290600.0, (10, 12): 259520.0, (10, 13): 1193000.0, (10, 14): 368800.0, (10, 15): 328600.0, (10, 16): 323240.0, (10, 17): 79120.0, (10, 18): 33840.0, (10, 19): 1590400.0, (10, 20): 1780000.0, (10, 21): 703800.0, (10, 22): 446200.0, (10, 23): 557400.0, (10, 24): 231600.0, (10, 25): 142000.0, (10, 26): 87200.0, (10, 27): 277840.0, (11, 12): 72400.0, (11, 13): 328300.0, (11, 14): 100200.0, (11, 15): 89800.0, (11, 16): 90120.0, (11, 17): 22440.0, (11, 18): 9440.0, (11, 19): 423000.0, (11, 20): 464400.0, (11, 21): 196200.0, (11, 22): 121100.0, (11, 23): 153600.0, (11, 24): 66660.0, (11, 25): 41780.0, (11, 26): 25640.0, (11, 27): 79320.0, (12, 13): 312700.0, (12, 14): 90000.0, (12, 15): 87900.0, (12, 16): 88000.0, (12, 17): 21080.0, (12, 18): 9280.0, (12, 19): 391400.0, (12, 20): 437800.0, (12, 21): 179800.0, (12, 22): 121800.0, (12, 23): 141200.0, (12, 24): 63600.0, (12, 25): 40100.0, (12, 26): 23940.0, (12, 27): 73160.0, (13, 14): 419500.0, (13, 15): 384000.0, (13, 16): 370700.0, (13, 17): 97300.0, (13, 18): 42600.0, (13, 19): 1641000.0, (13, 20): 2013000.0, (13, 21): 809500.0, (13, 22): 527000.0, (13, 23): 608000.0, (13, 24): 315200.0, (13, 25): 184900.0, (13, 26): 120400.0, (13, 27): 357600.0, (14, 15): 110500.0, (14, 16): 110400.0, (14, 17): 27800.0, (14, 18): 11600.0, (14, 19): 527000.0, (14, 20): 585000.0, (14, 21): 244000.0, (14, 22): 149000.0, (14, 23): 193000.0, (14, 24): 84200.0, (14, 25): 52100.0, (14, 26): 32300.0, (14, 27): 100200.0, (15, 16): 112900.0, (15, 17): 25400.0, (15, 18): 12200.0, (15, 19): 520000.0, (15, 20): 588000.0, (15, 21): 214500.0, (15, 22): 162000.0, (15, 23): 176500.0, (15, 24): 73600.0, (15, 25): 46400.0, (15, 26): 27200.0, (15, 27): 84000.0, (16, 17): 26080.0, (16, 18): 11720.0, (16, 19): 502600.0, (16, 20): 549600.0, (16, 21): 225800.0, (16, 22): 157800.0, (16, 23): 179400.0, (16, 24): 77500.0, (16, 25): 50200.0, (16, 26): 27980.0, (16, 27): 89000.0, (17, 18): 2740.0, (17, 19): 114000.0, (17, 20): 127000.0, (17, 21): 57500.0, (17, 22): 35600.0, (17, 23): 42300.0, (17, 24): 20240.0, (17, 25): 12500.0, (17, 26): 7660.0, (17, 27): 23800.0, (18, 19): 52600.0, (18, 20): 60400.0, (18, 21): 22800.0, (18, 22): 16800.0, (18, 23): 18200.0, (18, 24): 8160.0, (18, 25): 5040.0, (18, 26): 3060.0, (18, 27): 9240.0, (19, 20): 2714000.0, (19, 21): 998000.0, (19, 22): 707000.0, (19, 23): 832000.0, (19, 24): 317800.0, (19, 25): 201600.0, (19, 26): 119200.0, (19, 27): 377600.0, (20, 21): 1084000.0, (20, 22): 805000.0, (20, 23): 894000.0, (20, 24): 359400.0, (20, 25): 217600.0, (20, 26): 136000.0, (20, 27): 420800.0, (21, 22): 301500.0, (21, 23): 374000.0, (21, 24): 174200.0, (21, 25): 108700.0, (21, 26): 64000.0, (21, 27): 207600.0, (22, 23): 237500.0, (22, 24): 101800.0, (22, 25): 63600.0, (22, 26): 36200.0, (22, 27): 117200.0, (23, 24): 128300.0, (23, 25): 83300.0, (23, 26): 48000.0, (23, 27): 150000.0, (24, 25): 41880.0, (24, 26): 25040.0, (24, 27): 76440.0, (25, 26): 15420.0, (25, 27): 47120.0, (26, 27): 28560.0}\n",
            "\n",
            "Real optimal value:\n",
            "12400.0\n",
            "\n",
            "Results from the quantum annealer:\n",
            "Value:  9550.0\n",
            "Best Solution:  {0: 1, 1: 0, 2: 0, 3: 1, 4: 1, 5: 1, 6: 0, 7: 1, 8: 1, 9: 0, 10: 1, 11: 1, 12: 1, 13: 1, 14: 1, 15: 0, 16: 1, 17: 1, 18: 0, 19: 0, 20: 1, 21: 0, 22: 1, 23: 1, 24: 0, 25: 1, 26: 1, 27: 0}\n",
            "\n",
            "***************************************\n",
            "\n",
            "Experimento para md-knap6.txt\n",
            "  \n",
            "***************************************\n",
            "  \n",
            "{(0, 0): -1508480.0, (1, 1): -3477015.0, (2, 2): -1464250.0, (3, 3): -2219010.0, (4, 4): -7028100.0, (5, 5): -998331.0, (6, 6): -268718.0, (7, 7): -1230648.0, (8, 8): -214797.0, (9, 9): -446712.0, (10, 10): -1065052.0, (11, 11): -628536.0, (12, 12): -73891.0, (13, 13): -55955.0, (14, 14): -686935.0, (15, 15): -8403260.0, (16, 16): -616366.0, (17, 17): -438795.0, (18, 18): -133582.0, (19, 19): -53952.0, (20, 20): -2122141.0, (21, 21): -569822.0, (22, 22): -1284480.0, (23, 23): -250526.0, (24, 24): -149462.0, (25, 25): -314313.0, (26, 26): -584375.0, (27, 27): -214881.0, (28, 28): -202891.0, (29, 29): -57916.0, (30, 30): -109599.0, (31, 31): -574380.0, (32, 32): -776676.0, (33, 33): -213012.0, (34, 34): -203081.0, (35, 35): -95409.0, (36, 36): -331018.0, (37, 37): -374866.0, (38, 38): -198920.0, (0, 1): 182760.0, (0, 2): 73040.0, (0, 3): 124600.0, (0, 4): 398000.0, (0, 5): 52840.0, (0, 6): 13760.0, (0, 7): 65760.0, (0, 8): 11040.0, (0, 9): 27080.0, (0, 10): 54760.0, (0, 11): 37960.0, (0, 12): 2680.0, (0, 13): 3400.0, (0, 14): 39000.0, (0, 15): 609200.0, (0, 16): 23840.0, (0, 17): 27200.0, (0, 18): 8280.0, (0, 19): 2200.0, (0, 20): 110800.0, (0, 21): 27640.0, (0, 22): 63760.0, (0, 23): 14000.0, (0, 24): 9040.0, (0, 25): 15840.0, (0, 26): 33760.0, (0, 27): 11680.0, (0, 28): 8720.0, (0, 29): 3840.0, (0, 30): 5400.0, (0, 31): 31360.0, (0, 32): 47760.0, (0, 33): 9480.0, (0, 34): 12680.0, (0, 35): 6400.0, (0, 36): 20680.0, (0, 37): 15000.0, (0, 38): 7040.0, (1, 2): 192400.0, (1, 3): 268300.0, (1, 4): 1090400.0, (1, 5): 133920.0, (1, 6): 32520.0, (1, 7): 149560.0, (1, 8): 28420.0, (1, 9): 56600.0, (1, 10): 127720.0, (1, 11): 84600.0, (1, 12): 10800.0, (1, 13): 6520.0, (1, 14): 76260.0, (1, 15): 1363200.0, (1, 16): 93140.0, (1, 17): 51040.0, (1, 18): 14080.0, (1, 19): 7540.0, (1, 20): 313340.0, (1, 21): 72700.0, (1, 22): 168480.0, (1, 23): 31520.0, (1, 24): 15340.0, (1, 25): 39680.0, (1, 26): 71360.0, (1, 27): 31560.0, (1, 28): 27040.0, (1, 29): 5720.0, (1, 30): 14100.0, (1, 31): 72960.0, (1, 32): 112160.0, (1, 33): 30820.0, (1, 34): 23580.0, (1, 35): 14560.0, (1, 36): 37120.0, (1, 37): 51800.0, (1, 38): 28380.0, (2, 3): 125760.0, (2, 4): 428200.0, (2, 5): 55700.0, (2, 6): 14880.0, (2, 7): 72760.0, (2, 8): 13040.0, (2, 9): 17880.0, (2, 10): 62040.0, (2, 11): 27160.0, (2, 12): 4240.0, (2, 13): 2860.0, (2, 14): 35920.0, (2, 15): 506000.0, (2, 16): 35800.0, (2, 17): 24120.0, (2, 18): 7360.0, (2, 19): 2820.0, (2, 20): 122800.0, (2, 21): 30820.0, (2, 22): 68760.0, (2, 23): 11680.0, (2, 24): 8460.0, (2, 25): 16660.0, (2, 26): 32680.0, (2, 27): 10280.0, (2, 28): 12320.0, (2, 29): 2640.0, (2, 30): 7680.0, (2, 31): 31600.0, (2, 32): 27280.0, (2, 33): 10560.0, (2, 34): 10780.0, (2, 35): 1600.0, (2, 36): 22800.0, (2, 37): 17000.0, (2, 38): 12320.0, (3, 4): 640400.0, (3, 5): 85440.0, (3, 6): 23260.0, (3, 7): 122560.0, (3, 8): 19880.0, (3, 9): 39960.0, (3, 10): 106680.0, (3, 11): 49420.0, (3, 12): 5680.0, (3, 13): 4020.0, (3, 14): 72020.0, (3, 15): 706400.0, (3, 16): 44320.0, (3, 17): 43280.0, (3, 18): 10540.0, (3, 19): 4160.0, (3, 20): 162120.0, (3, 21): 46800.0, (3, 22): 100120.0, (3, 23): 15680.0, (3, 24): 15200.0, (3, 25): 25400.0, (3, 26): 55080.0, (3, 27): 14800.0, (3, 28): 20600.0, (3, 29): 4540.0, (3, 30): 10780.0, (3, 31): 47720.0, (3, 32): 51360.0, (3, 33): 16960.0, (3, 34): 18440.0, (3, 35): 4800.0, (3, 36): 34120.0, (3, 37): 34200.0, (3, 38): 15480.0, (4, 5): 277200.0, (4, 6): 77400.0, (4, 7): 344400.0, (4, 8): 56400.0, (4, 9): 119000.0, (4, 10): 308200.0, (4, 11): 165600.0, (4, 12): 24600.0, (4, 13): 14600.0, (4, 14): 188400.0, (4, 15): 2950000.0, (4, 16): 203200.0, (4, 17): 105200.0, (4, 18): 34400.0, (4, 19): 17600.0, (4, 20): 620000.0, (4, 21): 173200.0, (4, 22): 399200.0, (4, 23): 73200.0, (4, 24): 37400.0, (4, 25): 92600.0, (4, 26): 149600.0, (4, 27): 58000.0, (4, 28): 60000.0, (4, 29): 15000.0, (4, 30): 28000.0, (4, 31): 156400.0, (4, 32): 215600.0, (4, 33): 65800.0, (4, 34): 48800.0, (4, 35): 25600.0, (4, 36): 72200.0, (4, 37): 129000.0, (4, 38): 66800.0, (5, 6): 9060.0, (5, 7): 48280.0, (5, 8): 9560.0, (5, 9): 16860.0, (5, 10): 39660.0, (5, 11): 24360.0, (5, 12): 2580.0, (5, 13): 1740.0, (5, 14): 24960.0, (5, 15): 333400.0, (5, 16): 22200.0, (5, 17): 18520.0, (5, 18): 3960.0, (5, 19): 1760.0, (5, 20): 87360.0, (5, 21): 18560.0, (5, 22): 40680.0, (5, 23): 6760.0, (5, 24): 5420.0, (5, 25): 10340.0, (5, 26): 24000.0, (5, 27): 8760.0, (5, 28): 8640.0, (5, 29): 1460.0, (5, 30): 5160.0, (5, 31): 21480.0, (5, 32): 27880.0, (5, 33): 7980.0, (5, 34): 8040.0, (5, 35): 3200.0, (5, 36): 15540.0, (5, 37): 12100.0, (5, 38): 6760.0, (6, 7): 12560.0, (6, 8): 1940.0, (6, 9): 3660.0, (6, 10): 11160.0, (6, 11): 4920.0, (6, 12): 720.0, (6, 13): 520.0, (6, 14): 7020.0, (6, 15): 93400.0, (6, 16): 5840.0, (6, 17): 4000.0, (6, 18): 1360.0, (6, 19): 520.0, (6, 20): 18900.0, (6, 21): 5700.0, (6, 22): 12860.0, (6, 23): 2320.0, (6, 24): 1540.0, (6, 25): 3060.0, (6, 26): 5400.0, (6, 27): 1600.0, (6, 28): 2000.0, (6, 29): 580.0, (6, 30): 1060.0, (6, 31): 5320.0, (6, 32): 5520.0, (6, 33): 1860.0, (6, 34): 1820.0, (6, 35): 480.0, (6, 36): 3220.0, (6, 37): 3700.0, (6, 38): 2060.0, (7, 8): 11680.0, (7, 9): 19920.0, (7, 10): 57480.0, (7, 11): 26080.0, (7, 12): 3160.0, (7, 13): 2200.0, (7, 14): 37200.0, (7, 15): 379200.0, (7, 16): 25400.0, (7, 17): 24080.0, (7, 18): 5760.0, (7, 19): 2200.0, (7, 20): 95360.0, (7, 21): 24960.0, (7, 22): 53160.0, (7, 23): 8080.0, (7, 24): 8200.0, (7, 25): 13600.0, (7, 26): 30800.0, (7, 27): 8480.0, (7, 28): 11520.0, (7, 29): 2240.0, (7, 30): 6640.0, (7, 31): 26720.0, (7, 32): 25360.0, (7, 33): 9080.0, (7, 34): 10240.0, (7, 35): 1920.0, (7, 36): 20800.0, (7, 37): 16400.0, (7, 38): 8800.0, (8, 9): 3640.0, (8, 10): 9260.0, (8, 11): 5340.0, (8, 12): 540.0, (8, 13): 340.0, (8, 14): 5720.0, (8, 15): 61600.0, (8, 16): 4680.0, (8, 17): 4720.0, (8, 18): 780.0, (8, 19): 340.0, (8, 20): 20300.0, (8, 21): 3720.0, (8, 22): 7660.0, (8, 23): 1000.0, (8, 24): 1300.0, (8, 25): 2100.0, (8, 26): 5960.0, (8, 27): 2000.0, (8, 28): 2200.0, (8, 29): 220.0, (8, 30): 1440.0, (8, 31): 4920.0, (8, 32): 5240.0, (8, 33): 1720.0, (8, 34): 1960.0, (8, 35): 480.0, (8, 36): 4400.0, (8, 37): 2200.0, (8, 38): 1420.0, (9, 10): 16660.0, (9, 11): 13800.0, (9, 12): 900.0, (9, 13): 720.0, (9, 14): 12840.0, (9, 15): 153000.0, (9, 16): 7440.0, (9, 17): 8560.0, (9, 18): 1440.0, (9, 19): 740.0, (9, 20): 33440.0, (9, 21): 7620.0, (9, 22): 16720.0, (9, 23): 3080.0, (9, 24): 2360.0, (9, 25): 4360.0, (9, 26): 10520.0, (9, 27): 4160.0, (9, 28): 3440.0, (9, 29): 780.0, (9, 30): 1520.0, (9, 31): 8840.0, (9, 32): 18360.0, (9, 33): 3820.0, (9, 34): 3700.0, (9, 35): 2880.0, (9, 36): 4980.0, (9, 37): 7100.0, (9, 38): 1880.0, (10, 11): 20820.0, (10, 12): 2940.0, (10, 13): 1860.0, (10, 14): 32640.0, (10, 15): 325800.0, (10, 16): 22980.0, (10, 17): 19040.0, (10, 18): 4980.0, (10, 19): 2080.0, (10, 20): 77020.0, (10, 21): 22800.0, (10, 22): 49040.0, (10, 23): 7480.0, (10, 24): 6940.0, (10, 25): 12200.0, (10, 26): 24880.0, (10, 27): 6520.0, (10, 28): 9880.0, (10, 29): 2040.0, (10, 30): 5200.0, (10, 31): 22240.0, (10, 32): 20520.0, (10, 33): 8000.0, (10, 34): 8120.0, (10, 35): 1440.0, (10, 36): 15660.0, (10, 37): 16300.0, (10, 38): 8260.0, (11, 12): 1260.0, (11, 13): 1120.0, (11, 14): 15180.0, (11, 15): 234000.0, (11, 16): 11360.0, (11, 17): 11760.0, (11, 18): 2200.0, (11, 19): 980.0, (11, 20): 52980.0, (11, 21): 10240.0, (11, 22): 23180.0, (11, 23): 4680.0, (11, 24): 3020.0, (11, 25): 5980.0, (11, 26): 14640.0, (11, 27): 6400.0, (11, 28): 4400.0, (11, 29): 1040.0, (11, 30): 2380.0, (11, 31): 12880.0, (11, 32): 25880.0, (11, 33): 5160.0, (11, 34): 5240.0, (11, 35): 4000.0, (11, 36): 7840.0, (11, 37): 7800.0, (11, 38): 2740.0, (12, 13): 100.0, (12, 14): 1560.0, (12, 15): 23400.0, (12, 16): 2420.0, (12, 17): 720.0, (12, 18): 220.0, (12, 19): 200.0, (12, 20): 6060.0, (12, 21): 1720.0, (12, 22): 3920.0, (12, 23): 600.0, (12, 24): 260.0, (12, 25): 880.0, (12, 26): 1200.0, (12, 27): 520.0, (12, 28): 680.0, (12, 29): 80.0, (12, 30): 280.0, (12, 31): 1360.0, (12, 32): 1640.0, (12, 33): 720.0, (12, 34): 320.0, (12, 35): 160.0, (12, 36): 460.0, (12, 37): 1500.0, (12, 38): 820.0, (13, 14): 1220.0, (13, 15): 24000.0, (13, 16): 920.0, (13, 17): 840.0, (13, 18): 360.0, (13, 19): 80.0, (13, 20): 3900.0, (13, 21): 1060.0, (13, 22): 2540.0, (13, 23): 600.0, (13, 24): 320.0, (13, 25): 600.0, (13, 26): 1080.0, (13, 27): 360.0, (13, 28): 240.0, (13, 29): 160.0, (13, 30): 180.0, (13, 31): 1120.0, (13, 32): 1400.0, (13, 33): 280.0, (13, 34): 420.0, (13, 35): 160.0, (13, 36): 720.0, (13, 37): 400.0, (13, 38): 300.0, (14, 15): 210400.0, (14, 16): 11800.0, (14, 17): 13360.0, (14, 18): 3260.0, (14, 19): 1200.0, (14, 20): 44760.0, (14, 21): 13960.0, (14, 22): 29680.0, (14, 23): 4720.0, (14, 24): 4800.0, (14, 25): 7600.0, (14, 26): 16680.0, (14, 27): 4160.0, (14, 28): 6040.0, (14, 29): 1500.0, (14, 30): 3020.0, (14, 31): 14120.0, (14, 32): 15920.0, (14, 33): 4920.0, (14, 34): 5680.0, (14, 35): 1600.0, (14, 36): 10040.0, (14, 37): 10600.0, (14, 38): 4200.0, (15, 16): 210800.0, (15, 17): 138400.0, (15, 18): 56800.0, (15, 19): 18200.0, (15, 20): 784400.0, (15, 21): 203800.0, (15, 22): 494400.0, (15, 23): 114000.0, (15, 24): 48800.0, (15, 25): 114000.0, (15, 26): 186800.0, (15, 27): 79200.0, (15, 28): 48800.0, (15, 29): 26200.0, (15, 30): 28400.0, (15, 31): 203600.0, (15, 32): 327600.0, (15, 33): 68200.0, (15, 34): 70200.0, (15, 35): 44800.0, (15, 36): 98600.0, (15, 37): 111000.0, (15, 38): 64000.0, (16, 17): 6320.0, (16, 18): 1960.0, (16, 19): 1600.0, (16, 20): 54120.0, (16, 21): 13900.0, (16, 22): 32100.0, (16, 23): 5240.0, (16, 24): 2080.0, (16, 25): 7220.0, (16, 26): 10320.0, (16, 27): 4840.0, (16, 28): 5360.0, (16, 29): 680.0, (16, 30): 2440.0, (16, 31): 11760.0, (16, 32): 15080.0, (16, 33): 5900.0, (16, 34): 2900.0, (16, 35): 1600.0, (16, 36): 4480.0, (16, 37): 11200.0, (16, 38): 6600.0, (17, 18): 2080.0, (17, 19): 520.0, (17, 20): 36240.0, (17, 21): 7160.0, (17, 22): 14720.0, (17, 23): 2400.0, (17, 24): 3160.0, (17, 25): 4200.0, (17, 26): 12720.0, (17, 27): 3760.0, (17, 28): 3840.0, (17, 29): 800.0, (17, 30): 2640.0, (17, 31): 10080.0, (17, 32): 11840.0, (17, 33): 2880.0, (17, 34): 4520.0, (17, 35): 1280.0, (17, 36): 9440.0, (17, 37): 3600.0, (17, 38): 1840.0, (18, 19): 180.0, (18, 20): 8340.0, (18, 21): 2680.0, (18, 22): 6340.0, (18, 23): 1480.0, (18, 24): 900.0, (18, 25): 1500.0, (18, 26): 2640.0, (18, 27): 640.0, (18, 28): 560.0, (18, 29): 440.0, (18, 30): 460.0, (18, 31): 2720.0, (18, 32): 2360.0, (18, 33): 520.0, (18, 34): 1040.0, (18, 35): 160.0, (18, 36): 1960.0, (18, 37): 800.0, (18, 38): 740.0, (19, 20): 4020.0, (19, 21): 1240.0, (19, 22): 2860.0, (19, 23): 480.0, (19, 24): 200.0, (19, 25): 640.0, (19, 26): 840.0, (19, 27): 360.0, (19, 28): 440.0, (19, 29): 80.0, (19, 30): 160.0, (19, 31): 960.0, (19, 32): 1360.0, (19, 33): 500.0, (19, 34): 240.0, (19, 35): 160.0, (19, 36): 260.0, (19, 37): 1100.0, (19, 38): 540.0, (20, 21): 40240.0, (20, 22): 91300.0, (20, 23): 16360.0, (20, 24): 9900.0, (20, 25): 22460.0, (20, 26): 48680.0, (20, 27): 20720.0, (20, 28): 17480.0, (20, 29): 2860.0, (20, 30): 10880.0, (20, 31): 46520.0, (20, 32): 64760.0, (20, 33): 17920.0, (20, 34): 16240.0, (20, 35): 7840.0, (20, 36): 31080.0, (20, 37): 24400.0, (20, 38): 15940.0, (21, 22): 28980.0, (21, 23): 5280.0, (21, 24): 2860.0, (21, 25): 6680.0, (21, 26): 10240.0, (21, 27): 3440.0, (21, 28): 4160.0, (21, 29): 1180.0, (21, 30): 1920.0, (21, 31): 10840.0, (21, 32): 12720.0, (21, 33): 4320.0, (21, 34): 3340.0, (21, 35): 1280.0, (21, 36): 5100.0, (21, 37): 9100.0, (21, 38): 4840.0, (22, 23): 13120.0, (22, 24): 6100.0, (22, 25): 15360.0, (22, 26): 21640.0, (22, 27): 7880.0, (22, 28): 8520.0, (22, 29): 2860.0, (22, 30): 3800.0, (22, 31): 24280.0, (22, 32): 30720.0, (22, 33): 9700.0, (22, 34): 7180.0, (22, 35): 3360.0, (22, 36): 9880.0, (22, 37): 20400.0, (22, 38): 11060.0, (23, 24): 1080.0, (23, 25): 2880.0, (23, 26): 3520.0, (23, 27): 1520.0, (23, 28): 880.0, (23, 29): 720.0, (23, 30): 400.0, (23, 31): 4480.0, (23, 32): 7120.0, (23, 33): 1520.0, (23, 34): 1360.0, (23, 35): 960.0, (23, 36): 1400.0, (23, 37): 3000.0, (23, 38): 1720.0, (24, 25): 1600.0, (24, 26): 3840.0, (24, 27): 840.0, (24, 28): 1160.0, (24, 29): 380.0, (24, 30): 760.0, (24, 31): 3240.0, (24, 32): 2680.0, (24, 33): 800.0, (24, 34): 1380.0, (24, 35): 160.0, (24, 36): 2840.0, (24, 37): 1400.0, (24, 38): 780.0, (25, 26): 5840.0, (25, 27): 2000.0, (25, 28): 2200.0, (25, 29): 660.0, (25, 30): 1080.0, (25, 31): 6040.0, (25, 32): 7440.0, (25, 33): 2300.0, (25, 34): 1960.0, (25, 35): 800.0, (25, 36): 3080.0, (25, 37): 4600.0, (25, 38): 2460.0, (26, 27): 4880.0, (26, 28): 5120.0, (26, 29): 1000.0, (26, 30): 3320.0, (26, 31): 13040.0, (26, 32): 15200.0, (26, 33): 4120.0, (26, 34): 5440.0, (26, 35): 1600.0, (26, 36): 11160.0, (26, 37): 5800.0, (26, 38): 3160.0, (27, 28): 1600.0, (27, 29): 240.0, (27, 30): 960.0, (27, 31): 4480.0, (27, 32): 8560.0, (27, 33): 1880.0, (27, 34): 1680.0, (27, 35): 1280.0, (27, 36): 2800.0, (27, 37): 2400.0, (27, 38): 1200.0, (28, 29): 160.0, (28, 30): 1240.0, (28, 31): 4320.0, (28, 32): 4240.0, (28, 33): 1920.0, (28, 34): 1520.0, (28, 35): 320.0, (28, 36): 3200.0, (28, 37): 3600.0, (28, 38): 1800.0, (29, 30): 100.0, (29, 31): 1080.0, (29, 32): 1360.0, (29, 33): 220.0, (29, 34): 420.0, (29, 35): 160.0, (29, 36): 580.0, (29, 37): 500.0, (29, 38): 260.0, (30, 31): 2680.0, (30, 32): 1680.0, (30, 33): 800.0, (30, 34): 1080.0, (30, 35): 0.0, (30, 36): 2800.0, (30, 37): 800.0, (30, 38): 800.0, (31, 32): 14720.0, (31, 33): 4040.0, (31, 34): 4520.0, (31, 35): 1600.0, (31, 36): 8600.0, (31, 37): 6200.0, (31, 38): 3720.0, (32, 33): 6960.0, (32, 34): 5600.0, (32, 35): 6720.0, (32, 36): 5160.0, (32, 37): 11400.0, (32, 38): 3240.0, (33, 34): 1240.0, (33, 35): 960.0, (33, 36): 1660.0, (33, 37): 4100.0, (33, 38): 1800.0, (34, 35): 640.0, (34, 36): 3980.0, (34, 37): 1500.0, (34, 38): 840.0, (35, 36): 0.0, (35, 37): 1600.0, (35, 38): 160.0, (36, 37): 300.0, (36, 38): 1440.0, (37, 38): 3800.0}\n",
            "\n",
            "Real optimal value:\n",
            "10618.0\n",
            "\n",
            "Results from the quantum annealer:\n",
            "Value:  10402.0\n",
            "Best Solution:  {0: 0, 1: 1, 2: 0, 3: 1, 4: 0, 5: 1, 6: 0, 7: 1, 8: 0, 9: 1, 10: 1, 11: 0, 12: 0, 13: 0, 14: 1, 15: 1, 16: 1, 17: 1, 18: 0, 19: 0, 20: 1, 21: 1, 22: 1, 23: 0, 24: 0, 25: 1, 26: 1, 27: 1, 28: 0, 29: 0, 30: 0, 31: 1, 32: 0, 33: 0, 34: 1, 35: 1, 36: 0, 37: 1, 38: 0}\n",
            "\n",
            "***************************************\n",
            "\n",
            "Experimento para md-knap7.txt\n",
            "  \n",
            "***************************************\n",
            "  \n",
            "{(0, 0): -1800480.0, (1, 1): -4279015.0, (2, 2): -1719250.0, (3, 3): -2560010.0, (4, 4): -8568100.0, (5, 5): -1200331.0, (6, 6): -310718.0, (7, 7): -1422648.0, (8, 8): -256797.0, (9, 9): -541712.0, (10, 10): -1219052.0, (11, 11): -777536.0, (12, 12): -87891.0, (13, 13): -65955.0, (14, 14): -781935.0, (15, 15): -10593260.0, (16, 16): -745366.0, (17, 17): -516795.0, (18, 18): -152582.0, (19, 19): -63952.0, (20, 20): -2618141.0, (21, 21): -664822.0, (22, 22): -1511480.0, (23, 23): -298526.0, (24, 24): -168462.0, (25, 25): -368313.0, (26, 26): -690375.0, (27, 27): -270881.0, (28, 28): -236891.0, (29, 29): -65916.0, (30, 30): -128599.0, (31, 31): -682380.0, (32, 32): -988676.0, (33, 33): -259012.0, (34, 34): -240081.0, (35, 35): -127409.0, (36, 36): -384018.0, (37, 37): -439866.0, (38, 38): -232920.0, (39, 39): -1198578.0, (40, 40): -3153921.0, (41, 41): -533570.0, (42, 42): -3605500.0, (43, 43): -846445.0, (44, 44): -163508.0, (45, 45): -1551736.0, (46, 46): -1654730.0, (47, 47): -885598.0, (48, 48): -120797.0, (49, 49): -122831.0, (0, 1): 182760.0, (0, 2): 73040.0, (0, 3): 124600.0, (0, 4): 398000.0, (0, 5): 52840.0, (0, 6): 13760.0, (0, 7): 65760.0, (0, 8): 11040.0, (0, 9): 27080.0, (0, 10): 54760.0, (0, 11): 37960.0, (0, 12): 2680.0, (0, 13): 3400.0, (0, 14): 39000.0, (0, 15): 609200.0, (0, 16): 23840.0, (0, 17): 27200.0, (0, 18): 8280.0, (0, 19): 2200.0, (0, 20): 110800.0, (0, 21): 27640.0, (0, 22): 63760.0, (0, 23): 14000.0, (0, 24): 9040.0, (0, 25): 15840.0, (0, 26): 33760.0, (0, 27): 11680.0, (0, 28): 8720.0, (0, 29): 3840.0, (0, 30): 5400.0, (0, 31): 31360.0, (0, 32): 47760.0, (0, 33): 9480.0, (0, 34): 12680.0, (0, 35): 6400.0, (0, 36): 20680.0, (0, 37): 15000.0, (0, 38): 7040.0, (0, 39): 47760.0, (0, 40): 133680.0, (0, 41): 25680.0, (0, 42): 184960.0, (0, 43): 37960.0, (0, 44): 9400.0, (0, 45): 68240.0, (0, 46): 67360.0, (0, 47): 39280.0, (0, 48): 6040.0, (0, 49): 5520.0, (1, 2): 192400.0, (1, 3): 268300.0, (1, 4): 1090400.0, (1, 5): 133920.0, (1, 6): 32520.0, (1, 7): 149560.0, (1, 8): 28420.0, (1, 9): 56600.0, (1, 10): 127720.0, (1, 11): 84600.0, (1, 12): 10800.0, (1, 13): 6520.0, (1, 14): 76260.0, (1, 15): 1363200.0, (1, 16): 93140.0, (1, 17): 51040.0, (1, 18): 14080.0, (1, 19): 7540.0, (1, 20): 313340.0, (1, 21): 72700.0, (1, 22): 168480.0, (1, 23): 31520.0, (1, 24): 15340.0, (1, 25): 39680.0, (1, 26): 71360.0, (1, 27): 31560.0, (1, 28): 27040.0, (1, 29): 5720.0, (1, 30): 14100.0, (1, 31): 72960.0, (1, 32): 112160.0, (1, 33): 30820.0, (1, 34): 23580.0, (1, 35): 14560.0, (1, 36): 37120.0, (1, 37): 51800.0, (1, 38): 28380.0, (1, 39): 148880.0, (1, 40): 396600.0, (1, 41): 56580.0, (1, 42): 409440.0, (1, 43): 92420.0, (1, 44): 14680.0, (1, 45): 178160.0, (1, 46): 195960.0, (1, 47): 95820.0, (1, 48): 12260.0, (1, 49): 13940.0, (2, 3): 125760.0, (2, 4): 428200.0, (2, 5): 55700.0, (2, 6): 14880.0, (2, 7): 72760.0, (2, 8): 13040.0, (2, 9): 17880.0, (2, 10): 62040.0, (2, 11): 27160.0, (2, 12): 4240.0, (2, 13): 2860.0, (2, 14): 35920.0, (2, 15): 506000.0, (2, 16): 35800.0, (2, 17): 24120.0, (2, 18): 7360.0, (2, 19): 2820.0, (2, 20): 122800.0, (2, 21): 30820.0, (2, 22): 68760.0, (2, 23): 11680.0, (2, 24): 8460.0, (2, 25): 16660.0, (2, 26): 32680.0, (2, 27): 10280.0, (2, 28): 12320.0, (2, 29): 2640.0, (2, 30): 7680.0, (2, 31): 31600.0, (2, 32): 27280.0, (2, 33): 10560.0, (2, 34): 10780.0, (2, 35): 1600.0, (2, 36): 22800.0, (2, 37): 17000.0, (2, 38): 12320.0, (2, 39): 43200.0, (2, 40): 131140.0, (2, 41): 21820.0, (2, 42): 133400.0, (2, 43): 42360.0, (2, 44): 6840.0, (2, 45): 68000.0, (2, 46): 76660.0, (2, 47): 38460.0, (2, 48): 5080.0, (2, 49): 4320.0, (3, 4): 640400.0, (3, 5): 85440.0, (3, 6): 23260.0, (3, 7): 122560.0, (3, 8): 19880.0, (3, 9): 39960.0, (3, 10): 106680.0, (3, 11): 49420.0, (3, 12): 5680.0, (3, 13): 4020.0, (3, 14): 72020.0, (3, 15): 706400.0, (3, 16): 44320.0, (3, 17): 43280.0, (3, 18): 10540.0, (3, 19): 4160.0, (3, 20): 162120.0, (3, 21): 46800.0, (3, 22): 100120.0, (3, 23): 15680.0, (3, 24): 15200.0, (3, 25): 25400.0, (3, 26): 55080.0, (3, 27): 14800.0, (3, 28): 20600.0, (3, 29): 4540.0, (3, 30): 10780.0, (3, 31): 47720.0, (3, 32): 51360.0, (3, 33): 16960.0, (3, 34): 18440.0, (3, 35): 4800.0, (3, 36): 34120.0, (3, 37): 34200.0, (3, 38): 15480.0, (3, 39): 58280.0, (3, 40): 147600.0, (3, 41): 30480.0, (3, 42): 256640.0, (3, 43): 52620.0, (3, 44): 14040.0, (3, 45): 92200.0, (3, 46): 93560.0, (3, 47): 51560.0, (3, 48): 6620.0, (3, 49): 7080.0, (4, 5): 277200.0, (4, 6): 77400.0, (4, 7): 344400.0, (4, 8): 56400.0, (4, 9): 119000.0, (4, 10): 308200.0, (4, 11): 165600.0, (4, 12): 24600.0, (4, 13): 14600.0, (4, 14): 188400.0, (4, 15): 2950000.0, (4, 16): 203200.0, (4, 17): 105200.0, (4, 18): 34400.0, (4, 19): 17600.0, (4, 20): 620000.0, (4, 21): 173200.0, (4, 22): 399200.0, (4, 23): 73200.0, (4, 24): 37400.0, (4, 25): 92600.0, (4, 26): 149600.0, (4, 27): 58000.0, (4, 28): 60000.0, (4, 29): 15000.0, (4, 30): 28000.0, (4, 31): 156400.0, (4, 32): 215600.0, (4, 33): 65800.0, (4, 34): 48800.0, (4, 35): 25600.0, (4, 36): 72200.0, (4, 37): 129000.0, (4, 38): 66800.0, (4, 39): 277600.0, (4, 40): 755400.0, (4, 41): 120600.0, (4, 42): 816400.0, (4, 43): 197600.0, (4, 44): 33400.0, (4, 45): 356000.0, (4, 46): 401800.0, (4, 47): 230600.0, (4, 48): 27600.0, (4, 49): 26000.0, (5, 6): 9060.0, (5, 7): 48280.0, (5, 8): 9560.0, (5, 9): 16860.0, (5, 10): 39660.0, (5, 11): 24360.0, (5, 12): 2580.0, (5, 13): 1740.0, (5, 14): 24960.0, (5, 15): 333400.0, (5, 16): 22200.0, (5, 17): 18520.0, (5, 18): 3960.0, (5, 19): 1760.0, (5, 20): 87360.0, (5, 21): 18560.0, (5, 22): 40680.0, (5, 23): 6760.0, (5, 24): 5420.0, (5, 25): 10340.0, (5, 26): 24000.0, (5, 27): 8760.0, (5, 28): 8640.0, (5, 29): 1460.0, (5, 30): 5160.0, (5, 31): 21480.0, (5, 32): 27880.0, (5, 33): 7980.0, (5, 34): 8040.0, (5, 35): 3200.0, (5, 36): 15540.0, (5, 37): 12100.0, (5, 38): 6760.0, (5, 39): 37040.0, (5, 40): 96020.0, (5, 41): 14540.0, (5, 42): 120680.0, (5, 43): 25480.0, (5, 44): 5220.0, (5, 45): 48720.0, (5, 46): 50340.0, (5, 47): 20900.0, (5, 48): 2960.0, (5, 49): 3920.0, (6, 7): 12560.0, (6, 8): 1940.0, (6, 9): 3660.0, (6, 10): 11160.0, (6, 11): 4920.0, (6, 12): 720.0, (6, 13): 520.0, (6, 14): 7020.0, (6, 15): 93400.0, (6, 16): 5840.0, (6, 17): 4000.0, (6, 18): 1360.0, (6, 19): 520.0, (6, 20): 18900.0, (6, 21): 5700.0, (6, 22): 12860.0, (6, 23): 2320.0, (6, 24): 1540.0, (6, 25): 3060.0, (6, 26): 5400.0, (6, 27): 1600.0, (6, 28): 2000.0, (6, 29): 580.0, (6, 30): 1060.0, (6, 31): 5320.0, (6, 32): 5520.0, (6, 33): 1860.0, (6, 34): 1820.0, (6, 35): 480.0, (6, 36): 3220.0, (6, 37): 3700.0, (6, 38): 2060.0, (6, 39): 6920.0, (6, 40): 20400.0, (6, 41): 3900.0, (6, 42): 24640.0, (6, 43): 6780.0, (6, 44): 1320.0, (6, 45): 10920.0, (6, 46): 12160.0, (6, 47): 7460.0, (6, 48): 940.0, (6, 49): 720.0, (7, 8): 11680.0, (7, 9): 19920.0, (7, 10): 57480.0, (7, 11): 26080.0, (7, 12): 3160.0, (7, 13): 2200.0, (7, 14): 37200.0, (7, 15): 379200.0, (7, 16): 25400.0, (7, 17): 24080.0, (7, 18): 5760.0, (7, 19): 2200.0, (7, 20): 95360.0, (7, 21): 24960.0, (7, 22): 53160.0, (7, 23): 8080.0, (7, 24): 8200.0, (7, 25): 13600.0, (7, 26): 30800.0, (7, 27): 8480.0, (7, 28): 11520.0, (7, 29): 2240.0, (7, 30): 6640.0, (7, 31): 26720.0, (7, 32): 25360.0, (7, 33): 9080.0, (7, 34): 10240.0, (7, 35): 1920.0, (7, 36): 20800.0, (7, 37): 16400.0, (7, 38): 8800.0, (7, 39): 32880.0, (7, 40): 87720.0, (7, 41): 16680.0, (7, 42): 134000.0, (7, 43): 31040.0, (7, 44): 7320.0, (7, 45): 53040.0, (7, 46): 54920.0, (7, 47): 27000.0, (7, 48): 3600.0, (7, 49): 3880.0, (8, 9): 3640.0, (8, 10): 9260.0, (8, 11): 5340.0, (8, 12): 540.0, (8, 13): 340.0, (8, 14): 5720.0, (8, 15): 61600.0, (8, 16): 4680.0, (8, 17): 4720.0, (8, 18): 780.0, (8, 19): 340.0, (8, 20): 20300.0, (8, 21): 3720.0, (8, 22): 7660.0, (8, 23): 1000.0, (8, 24): 1300.0, (8, 25): 2100.0, (8, 26): 5960.0, (8, 27): 2000.0, (8, 28): 2200.0, (8, 29): 220.0, (8, 30): 1440.0, (8, 31): 4920.0, (8, 32): 5240.0, (8, 33): 1720.0, (8, 34): 1960.0, (8, 35): 480.0, (8, 36): 4400.0, (8, 37): 2200.0, (8, 38): 1420.0, (8, 39): 7840.0, (8, 40): 19840.0, (8, 41): 2860.0, (8, 42): 26800.0, (8, 43): 5680.0, (8, 44): 1220.0, (8, 45): 10880.0, (8, 46): 10920.0, (8, 47): 3300.0, (8, 48): 520.0, (8, 49): 880.0, (9, 10): 16660.0, (9, 11): 13800.0, (9, 12): 900.0, (9, 13): 720.0, (9, 14): 12840.0, (9, 15): 153000.0, (9, 16): 7440.0, (9, 17): 8560.0, (9, 18): 1440.0, (9, 19): 740.0, (9, 20): 33440.0, (9, 21): 7620.0, (9, 22): 16720.0, (9, 23): 3080.0, (9, 24): 2360.0, (9, 25): 4360.0, (9, 26): 10520.0, (9, 27): 4160.0, (9, 28): 3440.0, (9, 29): 780.0, (9, 30): 1520.0, (9, 31): 8840.0, (9, 32): 18360.0, (9, 33): 3820.0, (9, 34): 3700.0, (9, 35): 2880.0, (9, 36): 4980.0, (9, 37): 7100.0, (9, 38): 1880.0, (9, 39): 18080.0, (9, 40): 38840.0, (9, 41): 6440.0, (9, 42): 69760.0, (9, 43): 8040.0, (9, 44): 2860.0, (9, 45): 20000.0, (9, 46): 17960.0, (9, 47): 8400.0, (9, 48): 1200.0, (9, 49): 2080.0, (10, 11): 20820.0, (10, 12): 2940.0, (10, 13): 1860.0, (10, 14): 32640.0, (10, 15): 325800.0, (10, 16): 22980.0, (10, 17): 19040.0, (10, 18): 4980.0, (10, 19): 2080.0, (10, 20): 77020.0, (10, 21): 22800.0, (10, 22): 49040.0, (10, 23): 7480.0, (10, 24): 6940.0, (10, 25): 12200.0, (10, 26): 24880.0, (10, 27): 6520.0, (10, 28): 9880.0, (10, 29): 2040.0, (10, 30): 5200.0, (10, 31): 22240.0, (10, 32): 20520.0, (10, 33): 8000.0, (10, 34): 8120.0, (10, 35): 1440.0, (10, 36): 15660.0, (10, 37): 16300.0, (10, 38): 8260.0, (10, 39): 26200.0, (10, 40): 70000.0, (10, 41): 14020.0, (10, 42): 108320.0, (10, 43): 25800.0, (10, 44): 6020.0, (10, 45): 43000.0, (10, 46): 45880.0, (10, 47): 25500.0, (10, 48): 3120.0, (10, 49): 3020.0, (11, 12): 1260.0, (11, 13): 1120.0, (11, 14): 15180.0, (11, 15): 234000.0, (11, 16): 11360.0, (11, 17): 11760.0, (11, 18): 2200.0, (11, 19): 980.0, (11, 20): 52980.0, (11, 21): 10240.0, (11, 22): 23180.0, (11, 23): 4680.0, (11, 24): 3020.0, (11, 25): 5980.0, (11, 26): 14640.0, (11, 27): 6400.0, (11, 28): 4400.0, (11, 29): 1040.0, (11, 30): 2380.0, (11, 31): 12880.0, (11, 32): 25880.0, (11, 33): 5160.0, (11, 34): 5240.0, (11, 35): 4000.0, (11, 36): 7840.0, (11, 37): 7800.0, (11, 38): 2740.0, (11, 39): 27960.0, (11, 40): 66280.0, (11, 41): 9940.0, (11, 42): 94880.0, (11, 43): 13580.0, (11, 44): 3660.0, (11, 45): 31320.0, (11, 46): 29560.0, (11, 47): 12420.0, (11, 48): 1940.0, (11, 49): 3040.0, (12, 13): 100.0, (12, 14): 1560.0, (12, 15): 23400.0, (12, 16): 2420.0, (12, 17): 720.0, (12, 18): 220.0, (12, 19): 200.0, (12, 20): 6060.0, (12, 21): 1720.0, (12, 22): 3920.0, (12, 23): 600.0, (12, 24): 260.0, (12, 25): 880.0, (12, 26): 1200.0, (12, 27): 520.0, (12, 28): 680.0, (12, 29): 80.0, (12, 30): 280.0, (12, 31): 1360.0, (12, 32): 1640.0, (12, 33): 720.0, (12, 34): 320.0, (12, 35): 160.0, (12, 36): 460.0, (12, 37): 1500.0, (12, 38): 820.0, (12, 39): 2760.0, (12, 40): 7240.0, (12, 41): 940.0, (12, 42): 6320.0, (12, 43): 1760.0, (12, 44): 180.0, (12, 45): 3240.0, (12, 46): 4000.0, (12, 47): 2100.0, (12, 48): 200.0, (12, 49): 220.0, (13, 14): 1220.0, (13, 15): 24000.0, (13, 16): 920.0, (13, 17): 840.0, (13, 18): 360.0, (13, 19): 80.0, (13, 20): 3900.0, (13, 21): 1060.0, (13, 22): 2540.0, (13, 23): 600.0, (13, 24): 320.0, (13, 25): 600.0, (13, 26): 1080.0, (13, 27): 360.0, (13, 28): 240.0, (13, 29): 160.0, (13, 30): 180.0, (13, 31): 1120.0, (13, 32): 1400.0, (13, 33): 280.0, (13, 34): 420.0, (13, 35): 160.0, (13, 36): 720.0, (13, 37): 400.0, (13, 38): 300.0, (13, 39): 1480.0, (13, 40): 5020.0, (13, 41): 1000.0, (13, 42): 5240.0, (13, 43): 1580.0, (13, 44): 300.0, (13, 45): 2440.0, (13, 46): 2620.0, (13, 47): 1720.0, (13, 48): 260.0, (13, 49): 160.0, (14, 15): 210400.0, (14, 16): 11800.0, (14, 17): 13360.0, (14, 18): 3260.0, (14, 19): 1200.0, (14, 20): 44760.0, (14, 21): 13960.0, (14, 22): 29680.0, (14, 23): 4720.0, (14, 24): 4800.0, (14, 25): 7600.0, (14, 26): 16680.0, (14, 27): 4160.0, (14, 28): 6040.0, (14, 29): 1500.0, (14, 30): 3020.0, (14, 31): 14120.0, (14, 32): 15920.0, (14, 33): 4920.0, (14, 34): 5680.0, (14, 35): 1600.0, (14, 36): 10040.0, (14, 37): 10600.0, (14, 38): 4200.0, (14, 39): 15800.0, (14, 40): 38320.0, (14, 41): 9040.0, (14, 42): 79680.0, (14, 43): 14780.0, (14, 44): 4560.0, (14, 45): 26040.0, (14, 46): 25400.0, (14, 47): 15320.0, (14, 48): 1980.0, (14, 49): 2080.0, (15, 16): 210800.0, (15, 17): 138400.0, (15, 18): 56800.0, (15, 19): 18200.0, (15, 20): 784400.0, (15, 21): 203800.0, (15, 22): 494400.0, (15, 23): 114000.0, (15, 24): 48800.0, (15, 25): 114000.0, (15, 26): 186800.0, (15, 27): 79200.0, (15, 28): 48800.0, (15, 29): 26200.0, (15, 30): 28400.0, (15, 31): 203600.0, (15, 32): 327600.0, (15, 33): 68200.0, (15, 34): 70200.0, (15, 35): 44800.0, (15, 36): 98600.0, (15, 37): 111000.0, (15, 38): 64000.0, (15, 39): 364800.0, (15, 40): 1087600.0, (15, 41): 186400.0, (15, 42): 1099200.0, (15, 43): 277600.0, (15, 44): 48600.0, (15, 45): 483200.0, (15, 46): 525200.0, (15, 47): 325200.0, (15, 48): 46000.0, (15, 49): 35600.0, (16, 17): 6320.0, (16, 18): 1960.0, (16, 19): 1600.0, (16, 20): 54120.0, (16, 21): 13900.0, (16, 22): 32100.0, (16, 23): 5240.0, (16, 24): 2080.0, (16, 25): 7220.0, (16, 26): 10320.0, (16, 27): 4840.0, (16, 28): 5360.0, (16, 29): 680.0, (16, 30): 2440.0, (16, 31): 11760.0, (16, 32): 15080.0, (16, 33): 5900.0, (16, 34): 2900.0, (16, 35): 1600.0, (16, 36): 4480.0, (16, 37): 11200.0, (16, 38): 6600.0, (16, 39): 25080.0, (16, 40): 67600.0, (16, 41): 8560.0, (16, 42): 55360.0, (16, 43): 15800.0, (16, 44): 1500.0, (16, 45): 29240.0, (16, 46): 35520.0, (16, 47): 17640.0, (16, 48): 1840.0, (16, 49): 2020.0, (17, 18): 2080.0, (17, 19): 520.0, (17, 20): 36240.0, (17, 21): 7160.0, (17, 22): 14720.0, (17, 23): 2400.0, (17, 24): 3160.0, (17, 25): 4200.0, (17, 26): 12720.0, (17, 27): 3760.0, (17, 28): 3840.0, (17, 29): 800.0, (17, 30): 2640.0, (17, 31): 10080.0, (17, 32): 11840.0, (17, 33): 2880.0, (17, 34): 4520.0, (17, 35): 1280.0, (17, 36): 9440.0, (17, 37): 3600.0, (17, 38): 1840.0, (17, 39): 13280.0, (17, 40): 33720.0, (17, 41): 6360.0, (17, 42): 59280.0, (17, 43): 11040.0, (17, 44): 3200.0, (17, 45): 20640.0, (17, 46): 18840.0, (17, 47): 7000.0, (17, 48): 1280.0, (17, 49): 1760.0, (18, 19): 180.0, (18, 20): 8340.0, (18, 21): 2680.0, (18, 22): 6340.0, (18, 23): 1480.0, (18, 24): 900.0, (18, 25): 1500.0, (18, 26): 2640.0, (18, 27): 640.0, (18, 28): 560.0, (18, 29): 440.0, (18, 30): 460.0, (18, 31): 2720.0, (18, 32): 2360.0, (18, 33): 520.0, (18, 34): 1040.0, (18, 35): 160.0, (18, 36): 1960.0, (18, 37): 800.0, (18, 38): 740.0, (18, 39): 2280.0, (18, 40): 9760.0, (18, 41): 2380.0, (18, 42): 10320.0, (18, 43): 3980.0, (18, 44): 780.0, (18, 45): 5320.0, (18, 46): 5840.0, (18, 47): 4380.0, (18, 48): 660.0, (18, 49): 280.0, (19, 20): 4020.0, (19, 21): 1240.0, (19, 22): 2860.0, (19, 23): 480.0, (19, 24): 200.0, (19, 25): 640.0, (19, 26): 840.0, (19, 27): 360.0, (19, 28): 440.0, (19, 29): 80.0, (19, 30): 160.0, (19, 31): 960.0, (19, 32): 1360.0, (19, 33): 500.0, (19, 34): 240.0, (19, 35): 160.0, (19, 36): 260.0, (19, 37): 1100.0, (19, 38): 540.0, (19, 39): 1920.0, (19, 40): 4980.0, (19, 41): 720.0, (19, 42): 4920.0, (19, 43): 1200.0, (19, 44): 160.0, (19, 45): 2240.0, (19, 46): 2700.0, (19, 47): 1600.0, (19, 48): 160.0, (19, 49): 160.0, (20, 21): 40240.0, (20, 22): 91300.0, (20, 23): 16360.0, (20, 24): 9900.0, (20, 25): 22460.0, (20, 26): 48680.0, (20, 27): 20720.0, (20, 28): 17480.0, (20, 29): 2860.0, (20, 30): 10880.0, (20, 31): 46520.0, (20, 32): 64760.0, (20, 33): 17920.0, (20, 34): 16240.0, (20, 35): 7840.0, (20, 36): 31080.0, (20, 37): 24400.0, (20, 38): 15940.0, (20, 39): 92160.0, (20, 40): 247680.0, (20, 41): 33780.0, (20, 42): 254960.0, (20, 43): 59360.0, (20, 44): 9460.0, (20, 45): 114080.0, (20, 46): 122360.0, (20, 47): 49420.0, (20, 48): 7000.0, (20, 49): 8960.0, (21, 22): 28980.0, (21, 23): 5280.0, (21, 24): 2860.0, (21, 25): 6680.0, (21, 26): 10240.0, (21, 27): 3440.0, (21, 28): 4160.0, (21, 29): 1180.0, (21, 30): 1920.0, (21, 31): 10840.0, (21, 32): 12720.0, (21, 33): 4320.0, (21, 34): 3340.0, (21, 35): 1280.0, (21, 36): 5100.0, (21, 37): 9100.0, (21, 38): 4840.0, (21, 39): 16360.0, (21, 40): 46940.0, (21, 41): 8300.0, (21, 42): 51000.0, (21, 43): 14000.0, (21, 44): 2400.0, (21, 45): 23240.0, (21, 46): 26860.0, (21, 47): 17020.0, (21, 48): 2000.0, (21, 49): 1540.0, (22, 23): 13120.0, (22, 24): 6100.0, (22, 25): 15360.0, (22, 26): 21640.0, (22, 27): 7880.0, (22, 28): 8520.0, (22, 29): 2860.0, (22, 30): 3800.0, (22, 31): 24280.0, (22, 32): 30720.0, (22, 33): 9700.0, (22, 34): 7180.0, (22, 35): 3360.0, (22, 36): 9880.0, (22, 37): 20400.0, (22, 38): 11060.0, (22, 39): 38760.0, (22, 40): 114160.0, (22, 41): 19900.0, (22, 42): 113360.0, (22, 43): 32520.0, (22, 44): 5120.0, (22, 45): 53640.0, (22, 46): 62920.0, (22, 47): 41420.0, (22, 48): 4920.0, (22, 49): 3500.0, (23, 24): 1080.0, (23, 25): 2880.0, (23, 26): 3520.0, (23, 27): 1520.0, (23, 28): 880.0, (23, 29): 720.0, (23, 30): 400.0, (23, 31): 4480.0, (23, 32): 7120.0, (23, 33): 1520.0, (23, 34): 1360.0, (23, 35): 960.0, (23, 36): 1400.0, (23, 37): 3000.0, (23, 38): 1720.0, (23, 39): 7600.0, (23, 40): 24560.0, (23, 41): 4520.0, (23, 42): 21600.0, (23, 43): 6560.0, (23, 44): 1000.0, (23, 45): 10480.0, (23, 46): 12160.0, (23, 47): 9080.0, (23, 48): 1200.0, (23, 49): 680.0, (24, 25): 1600.0, (24, 26): 3840.0, (24, 27): 840.0, (24, 28): 1160.0, (24, 29): 380.0, (24, 30): 760.0, (24, 31): 3240.0, (24, 32): 2680.0, (24, 33): 800.0, (24, 34): 1380.0, (24, 35): 160.0, (24, 36): 2840.0, (24, 37): 1400.0, (24, 38): 780.0, (24, 39): 2640.0, (24, 40): 8220.0, (24, 41): 2160.0, (24, 42): 15480.0, (24, 43): 3840.0, (24, 44): 1060.0, (24, 45): 5840.0, (24, 46): 5700.0, (24, 47): 3400.0, (24, 48): 520.0, (24, 49): 400.0, (25, 26): 5840.0, (25, 27): 2000.0, (25, 28): 2200.0, (25, 29): 660.0, (25, 30): 1080.0, (25, 31): 6040.0, (25, 32): 7440.0, (25, 33): 2300.0, (25, 34): 1960.0, (25, 35): 800.0, (25, 36): 3080.0, (25, 37): 4600.0, (25, 38): 2460.0, (25, 39): 9240.0, (25, 40): 26460.0, (25, 41): 4680.0, (25, 42): 29560.0, (25, 43): 7760.0, (25, 44): 1400.0, (25, 45): 13080.0, (25, 46): 14740.0, (25, 47): 9080.0, (25, 48): 1120.0, (25, 49): 900.0, (26, 27): 4880.0, (26, 28): 5120.0, (26, 29): 1000.0, (26, 30): 3320.0, (26, 31): 13040.0, (26, 32): 15200.0, (26, 33): 4120.0, (26, 34): 5440.0, (26, 35): 1600.0, (26, 36): 11160.0, (26, 37): 5800.0, (26, 38): 3160.0, (26, 39): 18480.0, (26, 40): 47880.0, (26, 41): 8400.0, (26, 42): 73520.0, (26, 43): 14840.0, (26, 44): 3760.0, (26, 45): 27440.0, (26, 46): 26600.0, (26, 47): 10720.0, (26, 48): 1720.0, (26, 49): 2240.0, (27, 28): 1600.0, (27, 29): 240.0, (27, 30): 960.0, (27, 31): 4480.0, (27, 32): 8560.0, (27, 33): 1880.0, (27, 34): 1680.0, (27, 35): 1280.0, (27, 36): 2800.0, (27, 37): 2400.0, (27, 38): 1200.0, (27, 39): 10800.0, (27, 40): 26680.0, (27, 41): 3400.0, (27, 42): 30800.0, (27, 43): 5200.0, (27, 44): 1000.0, (27, 45): 11760.0, (27, 46): 11800.0, (27, 47): 4120.0, (27, 48): 640.0, (27, 49): 1080.0, (28, 29): 160.0, (28, 30): 1240.0, (28, 31): 4320.0, (28, 32): 4240.0, (28, 33): 1920.0, (28, 34): 1520.0, (28, 35): 320.0, (28, 36): 3200.0, (28, 37): 3600.0, (28, 38): 1800.0, (28, 39): 6800.0, (28, 40): 15520.0, (28, 41): 2200.0, (28, 42): 23200.0, (28, 43): 4600.0, (28, 44): 1000.0, (28, 45): 9040.0, (28, 46): 9600.0, (28, 47): 3480.0, (28, 48): 360.0, (28, 49): 720.0, (29, 30): 100.0, (29, 31): 1080.0, (29, 32): 1360.0, (29, 33): 220.0, (29, 34): 420.0, (29, 35): 160.0, (29, 36): 580.0, (29, 37): 500.0, (29, 38): 260.0, (29, 39): 920.0, (29, 40): 3760.0, (29, 41): 1060.0, (29, 42): 4960.0, (29, 43): 1500.0, (29, 44): 360.0, (29, 45): 2040.0, (29, 46): 2160.0, (29, 47): 2060.0, (29, 48): 300.0, (29, 49): 120.0, (30, 31): 2680.0, (30, 32): 1680.0, (30, 33): 800.0, (30, 34): 1080.0, (30, 35): 0.0, (30, 36): 2800.0, (30, 37): 800.0, (30, 38): 800.0, (30, 39): 3400.0, (30, 40): 9440.0, (30, 41): 1400.0, (30, 42): 12000.0, (30, 43): 3300.0, (30, 44): 640.0, (30, 45): 5640.0, (30, 46): 5800.0, (30, 47): 1520.0, (30, 48): 260.0, (30, 49): 400.0, (31, 32): 14720.0, (31, 33): 4040.0, (31, 34): 4520.0, (31, 35): 1600.0, (31, 36): 8600.0, (31, 37): 6200.0, (31, 38): 3720.0, (31, 39): 18640.0, (31, 40): 52080.0, (31, 41): 8760.0, (31, 42): 63200.0, (31, 43): 15080.0, (31, 44): 3040.0, (31, 45): 26640.0, (31, 46): 27920.0, (31, 47): 13640.0, (31, 48): 1960.0, (31, 49): 2000.0, (32, 33): 6960.0, (32, 34): 5600.0, (32, 35): 6720.0, (32, 36): 5160.0, (32, 37): 11400.0, (32, 38): 3240.0, (32, 39): 40720.0, (32, 40): 95040.0, (32, 41): 13320.0, (32, 42): 125120.0, (32, 43): 15200.0, (32, 44): 3960.0, (32, 45): 39760.0, (32, 46): 38000.0, (32, 47): 18040.0, (32, 48): 2640.0, (32, 49): 4120.0, (33, 34): 1240.0, (33, 35): 960.0, (33, 36): 1660.0, (33, 37): 4100.0, (33, 38): 1800.0, (33, 39): 9240.0, (33, 40): 21640.0, (33, 41): 2800.0, (33, 42): 25920.0, (33, 43): 4440.0, (33, 44): 800.0, (33, 45): 9880.0, (33, 46): 10760.0, (33, 47): 4880.0, (33, 48): 520.0, (33, 49): 860.0, (34, 35): 640.0, (34, 36): 3980.0, (34, 37): 1500.0, (34, 38): 840.0, (34, 39): 6120.0, (34, 40): 16580.0, (34, 41): 3140.0, (34, 42): 25960.0, (34, 43): 5240.0, (34, 44): 1400.0, (34, 45): 9480.0, (34, 46): 8900.0, (34, 47): 3860.0, (34, 48): 680.0, (34, 49): 780.0, (35, 36): 0.0, (35, 37): 1600.0, (35, 38): 160.0, (35, 39): 6400.0, (35, 40): 13760.0, (35, 41): 1760.0, (35, 42): 19200.0, (35, 43): 1280.0, (35, 44): 480.0, (35, 45): 5120.0, (35, 46): 4480.0, (35, 47): 2080.0, (35, 48): 320.0, (35, 49): 640.0, (36, 37): 300.0, (36, 38): 1440.0, (36, 39): 8000.0, (36, 40): 25200.0, (36, 41): 4920.0, (36, 42): 38960.0, (36, 43): 10680.0, (36, 44): 2580.0, (36, 45): 16960.0, (36, 46): 15920.0, (36, 47): 4400.0, (36, 48): 1040.0, (36, 49): 1200.0, (37, 38): 3800.0, (37, 39): 13600.0, (37, 40): 28200.0, (37, 41): 4200.0, (37, 42): 41600.0, (37, 43): 5800.0, (37, 44): 1300.0, (37, 45): 13600.0, (37, 46): 15800.0, (37, 47): 10400.0, (37, 48): 800.0, (37, 49): 1200.0, (38, 39): 6400.0, (38, 40): 18480.0, (38, 41): 2580.0, (38, 42): 13680.0, (38, 43): 5200.0, (38, 44): 460.0, (38, 45): 8480.0, (38, 46): 10920.0, (38, 47): 6140.0, (38, 48): 600.0, (38, 49): 480.0, (39, 40): 127920.0, (39, 41): 15120.0, (39, 42): 133600.0, (39, 43): 21960.0, (39, 44): 3400.0, (39, 45): 52320.0, (39, 46): 54880.0, (39, 47): 21040.0, (39, 48): 2840.0, (39, 49): 4840.0, (40, 41): 45100.0, (40, 42): 307000.0, (40, 43): 71000.0, (40, 44): 8800.0, (40, 45): 142480.0, (40, 46): 156420.0, (40, 47): 69340.0, (40, 48): 9800.0, (40, 49): 11480.0, (41, 42): 46840.0, (41, 43): 11840.0, (41, 44): 2140.0, (41, 45): 20560.0, (41, 46): 22020.0, (41, 47): 12880.0, (41, 48): 1880.0, (41, 49): 1520.0, (42, 43): 63760.0, (42, 44): 18560.0, (42, 45): 149920.0, (42, 46): 139640.0, (42, 47): 58200.0, (42, 48): 8880.0, (42, 49): 14800.0, (43, 44): 3240.0, (43, 45): 34120.0, (43, 46): 38240.0, (43, 47): 20040.0, (43, 48): 2900.0, (43, 49): 2160.0, (44, 45): 5800.0, (44, 46): 5080.0, (44, 47): 2820.0, (44, 48): 480.0, (44, 49): 500.0, (45, 46): 69120.0, (45, 47): 30640.0, (45, 48): 4440.0, (45, 49): 5160.0, (46, 47): 36980.0, (46, 48): 4960.0, (46, 49): 5000.0, (47, 48): 3440.0, (47, 49): 1800.0, (48, 49): 280.0}\n",
            "\n",
            "Real optimal value:\n",
            "16537.0\n",
            "\n",
            "Results from the quantum annealer:\n",
            "Value:  14297.0\n",
            "Best Solution:  {0: 0, 1: 0, 2: 0, 3: 1, 4: 1, 5: 1, 6: 1, 7: 1, 8: 0, 9: 0, 10: 0, 11: 1, 12: 0, 13: 1, 14: 0, 15: 1, 16: 0, 17: 0, 18: 1, 19: 1, 20: 1, 21: 0, 22: 0, 23: 0, 24: 0, 25: 1, 26: 0, 27: 1, 28: 0, 29: 1, 30: 1, 31: 1, 32: 0, 33: 0, 34: 1, 35: 1, 36: 1, 37: 1, 38: 0, 39: 0, 40: 0, 41: 1, 42: 1, 43: 0, 44: 1, 45: 1, 46: 1, 47: 0, 48: 1, 49: 0}\n"
          ]
        }
      ]
    }
  ]
}